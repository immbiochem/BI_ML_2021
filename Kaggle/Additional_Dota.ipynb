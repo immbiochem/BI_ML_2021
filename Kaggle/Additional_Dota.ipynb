{
  "nbformat": 4,
  "nbformat_minor": 0,
  "metadata": {
    "colab": {
      "name": "Dota.ipynb",
      "provenance": [],
      "collapsed_sections": []
    },
    "kernelspec": {
      "name": "python3",
      "display_name": "Python 3"
    },
    "language_info": {
      "name": "python"
    }
  },
  "cells": [
    {
      "cell_type": "code",
      "execution_count": null,
      "metadata": {
        "id": "NFe12L546hBU"
      },
      "outputs": [],
      "source": [
        "import os\n",
        "import numpy as np\n",
        "import json\n",
        "import pandas as pd\n",
        "import datetime\n",
        "import warnings\n",
        "import seaborn as sns\n",
        "import matplotlib.pyplot as plt\n",
        "from sklearn.model_selection import train_test_split, ShuffleSplit, cross_val_score\n",
        "from sklearn.ensemble import RandomForestClassifier\n",
        "from sklearn.metrics import roc_auc_score, accuracy_score\n",
        "\n",
        "%matplotlib inline"
      ]
    },
    {
      "cell_type": "markdown",
      "source": [
        "# Новый раздел"
      ],
      "metadata": {
        "id": "6RKX9rcdFonU"
      }
    },
    {
      "cell_type": "code",
      "source": [
        "from google.colab import drive\n",
        "drive.mount('/content/drive')"
      ],
      "metadata": {
        "id": "nBSR6KDXF17h",
        "colab": {
          "base_uri": "https://localhost:8080/"
        },
        "outputId": "24ed8f29-4f0f-47db-f6cc-b2f7c83444d1"
      },
      "execution_count": null,
      "outputs": [
        {
          "output_type": "stream",
          "name": "stdout",
          "text": [
            "Drive already mounted at /content/drive; to attempt to forcibly remount, call drive.mount(\"/content/drive\", force_remount=True).\n"
          ]
        }
      ]
    },
    {
      "cell_type": "code",
      "source": [
        "data = pd.read_csv(\"/content/drive/MyDrive/df_extended_v3.csv\", index_col=\"match_id_hash\")"
      ],
      "metadata": {
        "id": "5caY9wcy7mPg"
      },
      "execution_count": null,
      "outputs": []
    },
    {
      "cell_type": "code",
      "source": [
        "data.head()"
      ],
      "metadata": {
        "id": "q09XafEv7mTU",
        "colab": {
          "base_uri": "https://localhost:8080/",
          "height": 331
        },
        "outputId": "18f0c840-d00a-46b7-a23e-a4b44da76f47"
      },
      "execution_count": null,
      "outputs": [
        {
          "output_type": "execute_result",
          "data": {
            "text/plain": [
              "                                  game_time  game_mode  lobby_type  \\\n",
              "match_id_hash                                                        \n",
              "b9c57c450ce74a2af79c9ce96fac144d        658          4           0   \n",
              "6db558535151ea18ca70a6892197db41         21         23           0   \n",
              "19c39fe2af2b547e48708ca005c6ae74        160         22           7   \n",
              "c96d629dc0c39f0c616d1949938a6ba6       1016         22           0   \n",
              "156c88bff4e9c4668b0f53df3d870f1b        582         22           7   \n",
              "\n",
              "                                  objectives_len  chat_len  r1_hero_id  \\\n",
              "match_id_hash                                                            \n",
              "b9c57c450ce74a2af79c9ce96fac144d               3        10          15   \n",
              "6db558535151ea18ca70a6892197db41               0         0         101   \n",
              "19c39fe2af2b547e48708ca005c6ae74               0         0          57   \n",
              "c96d629dc0c39f0c616d1949938a6ba6               1         0         119   \n",
              "156c88bff4e9c4668b0f53df3d870f1b               2         2          12   \n",
              "\n",
              "                                  r1_kills  r1_deaths  r1_assists  r1_denies  \\\n",
              "match_id_hash                                                                  \n",
              "b9c57c450ce74a2af79c9ce96fac144d         7          2           0          7   \n",
              "6db558535151ea18ca70a6892197db41         0          0           0          0   \n",
              "19c39fe2af2b547e48708ca005c6ae74         0          0           0          1   \n",
              "c96d629dc0c39f0c616d1949938a6ba6         0          3           3          5   \n",
              "156c88bff4e9c4668b0f53df3d870f1b         3          1           2          9   \n",
              "\n",
              "                                  ...  diff_gold_maxx  diff_xp_means  \\\n",
              "match_id_hash                     ...                                  \n",
              "b9c57c450ce74a2af79c9ce96fac144d  ...          1633.0          928.2   \n",
              "6db558535151ea18ca70a6892197db41  ...            80.0            0.0   \n",
              "19c39fe2af2b547e48708ca005c6ae74  ...           367.0           85.8   \n",
              "c96d629dc0c39f0c616d1949938a6ba6  ...           529.0         -245.0   \n",
              "156c88bff4e9c4668b0f53df3d870f1b  ...          -358.0         -110.8   \n",
              "\n",
              "                                  diff_xp_maxx  radiant_pred  dir_pred  \\\n",
              "match_id_hash                                                            \n",
              "b9c57c450ce74a2af79c9ce96fac144d        1041.0           0.0       0.0   \n",
              "6db558535151ea18ca70a6892197db41           0.0           0.0       0.0   \n",
              "19c39fe2af2b547e48708ca005c6ae74          81.0           1.0       0.0   \n",
              "c96d629dc0c39f0c616d1949938a6ba6         152.0           2.0       0.0   \n",
              "156c88bff4e9c4668b0f53df3d870f1b        -239.0           1.0       1.0   \n",
              "\n",
              "                                  diff_preds  radiant_strenth_balance  \\\n",
              "match_id_hash                                                           \n",
              "b9c57c450ce74a2af79c9ce96fac144d         0.0                      0.2   \n",
              "6db558535151ea18ca70a6892197db41         0.0                      0.2   \n",
              "19c39fe2af2b547e48708ca005c6ae74         1.0                      0.4   \n",
              "c96d629dc0c39f0c616d1949938a6ba6         2.0                      0.4   \n",
              "156c88bff4e9c4668b0f53df3d870f1b         0.0                      0.2   \n",
              "\n",
              "                                  dire_strenth_balance  \\\n",
              "match_id_hash                                            \n",
              "b9c57c450ce74a2af79c9ce96fac144d                   0.2   \n",
              "6db558535151ea18ca70a6892197db41                   0.2   \n",
              "19c39fe2af2b547e48708ca005c6ae74                   0.4   \n",
              "c96d629dc0c39f0c616d1949938a6ba6                   0.2   \n",
              "156c88bff4e9c4668b0f53df3d870f1b                   0.0   \n",
              "\n",
              "                                  radiant_agility_balance  \\\n",
              "match_id_hash                                               \n",
              "b9c57c450ce74a2af79c9ce96fac144d                      0.6   \n",
              "6db558535151ea18ca70a6892197db41                      0.4   \n",
              "19c39fe2af2b547e48708ca005c6ae74                      0.2   \n",
              "c96d629dc0c39f0c616d1949938a6ba6                      0.4   \n",
              "156c88bff4e9c4668b0f53df3d870f1b                      0.4   \n",
              "\n",
              "                                  dire_agility_balance  \n",
              "match_id_hash                                           \n",
              "b9c57c450ce74a2af79c9ce96fac144d                   0.2  \n",
              "6db558535151ea18ca70a6892197db41                   0.6  \n",
              "19c39fe2af2b547e48708ca005c6ae74                   0.4  \n",
              "c96d629dc0c39f0c616d1949938a6ba6                   0.2  \n",
              "156c88bff4e9c4668b0f53df3d870f1b                   0.4  \n",
              "\n",
              "[5 rows x 262 columns]"
            ],
            "text/html": [
              "\n",
              "  <div id=\"df-d28e401f-b773-4fed-be31-15b25e33a0b5\">\n",
              "    <div class=\"colab-df-container\">\n",
              "      <div>\n",
              "<style scoped>\n",
              "    .dataframe tbody tr th:only-of-type {\n",
              "        vertical-align: middle;\n",
              "    }\n",
              "\n",
              "    .dataframe tbody tr th {\n",
              "        vertical-align: top;\n",
              "    }\n",
              "\n",
              "    .dataframe thead th {\n",
              "        text-align: right;\n",
              "    }\n",
              "</style>\n",
              "<table border=\"1\" class=\"dataframe\">\n",
              "  <thead>\n",
              "    <tr style=\"text-align: right;\">\n",
              "      <th></th>\n",
              "      <th>game_time</th>\n",
              "      <th>game_mode</th>\n",
              "      <th>lobby_type</th>\n",
              "      <th>objectives_len</th>\n",
              "      <th>chat_len</th>\n",
              "      <th>r1_hero_id</th>\n",
              "      <th>r1_kills</th>\n",
              "      <th>r1_deaths</th>\n",
              "      <th>r1_assists</th>\n",
              "      <th>r1_denies</th>\n",
              "      <th>...</th>\n",
              "      <th>diff_gold_maxx</th>\n",
              "      <th>diff_xp_means</th>\n",
              "      <th>diff_xp_maxx</th>\n",
              "      <th>radiant_pred</th>\n",
              "      <th>dir_pred</th>\n",
              "      <th>diff_preds</th>\n",
              "      <th>radiant_strenth_balance</th>\n",
              "      <th>dire_strenth_balance</th>\n",
              "      <th>radiant_agility_balance</th>\n",
              "      <th>dire_agility_balance</th>\n",
              "    </tr>\n",
              "    <tr>\n",
              "      <th>match_id_hash</th>\n",
              "      <th></th>\n",
              "      <th></th>\n",
              "      <th></th>\n",
              "      <th></th>\n",
              "      <th></th>\n",
              "      <th></th>\n",
              "      <th></th>\n",
              "      <th></th>\n",
              "      <th></th>\n",
              "      <th></th>\n",
              "      <th></th>\n",
              "      <th></th>\n",
              "      <th></th>\n",
              "      <th></th>\n",
              "      <th></th>\n",
              "      <th></th>\n",
              "      <th></th>\n",
              "      <th></th>\n",
              "      <th></th>\n",
              "      <th></th>\n",
              "      <th></th>\n",
              "    </tr>\n",
              "  </thead>\n",
              "  <tbody>\n",
              "    <tr>\n",
              "      <th>b9c57c450ce74a2af79c9ce96fac144d</th>\n",
              "      <td>658</td>\n",
              "      <td>4</td>\n",
              "      <td>0</td>\n",
              "      <td>3</td>\n",
              "      <td>10</td>\n",
              "      <td>15</td>\n",
              "      <td>7</td>\n",
              "      <td>2</td>\n",
              "      <td>0</td>\n",
              "      <td>7</td>\n",
              "      <td>...</td>\n",
              "      <td>1633.0</td>\n",
              "      <td>928.2</td>\n",
              "      <td>1041.0</td>\n",
              "      <td>0.0</td>\n",
              "      <td>0.0</td>\n",
              "      <td>0.0</td>\n",
              "      <td>0.2</td>\n",
              "      <td>0.2</td>\n",
              "      <td>0.6</td>\n",
              "      <td>0.2</td>\n",
              "    </tr>\n",
              "    <tr>\n",
              "      <th>6db558535151ea18ca70a6892197db41</th>\n",
              "      <td>21</td>\n",
              "      <td>23</td>\n",
              "      <td>0</td>\n",
              "      <td>0</td>\n",
              "      <td>0</td>\n",
              "      <td>101</td>\n",
              "      <td>0</td>\n",
              "      <td>0</td>\n",
              "      <td>0</td>\n",
              "      <td>0</td>\n",
              "      <td>...</td>\n",
              "      <td>80.0</td>\n",
              "      <td>0.0</td>\n",
              "      <td>0.0</td>\n",
              "      <td>0.0</td>\n",
              "      <td>0.0</td>\n",
              "      <td>0.0</td>\n",
              "      <td>0.2</td>\n",
              "      <td>0.2</td>\n",
              "      <td>0.4</td>\n",
              "      <td>0.6</td>\n",
              "    </tr>\n",
              "    <tr>\n",
              "      <th>19c39fe2af2b547e48708ca005c6ae74</th>\n",
              "      <td>160</td>\n",
              "      <td>22</td>\n",
              "      <td>7</td>\n",
              "      <td>0</td>\n",
              "      <td>0</td>\n",
              "      <td>57</td>\n",
              "      <td>0</td>\n",
              "      <td>0</td>\n",
              "      <td>0</td>\n",
              "      <td>1</td>\n",
              "      <td>...</td>\n",
              "      <td>367.0</td>\n",
              "      <td>85.8</td>\n",
              "      <td>81.0</td>\n",
              "      <td>1.0</td>\n",
              "      <td>0.0</td>\n",
              "      <td>1.0</td>\n",
              "      <td>0.4</td>\n",
              "      <td>0.4</td>\n",
              "      <td>0.2</td>\n",
              "      <td>0.4</td>\n",
              "    </tr>\n",
              "    <tr>\n",
              "      <th>c96d629dc0c39f0c616d1949938a6ba6</th>\n",
              "      <td>1016</td>\n",
              "      <td>22</td>\n",
              "      <td>0</td>\n",
              "      <td>1</td>\n",
              "      <td>0</td>\n",
              "      <td>119</td>\n",
              "      <td>0</td>\n",
              "      <td>3</td>\n",
              "      <td>3</td>\n",
              "      <td>5</td>\n",
              "      <td>...</td>\n",
              "      <td>529.0</td>\n",
              "      <td>-245.0</td>\n",
              "      <td>152.0</td>\n",
              "      <td>2.0</td>\n",
              "      <td>0.0</td>\n",
              "      <td>2.0</td>\n",
              "      <td>0.4</td>\n",
              "      <td>0.2</td>\n",
              "      <td>0.4</td>\n",
              "      <td>0.2</td>\n",
              "    </tr>\n",
              "    <tr>\n",
              "      <th>156c88bff4e9c4668b0f53df3d870f1b</th>\n",
              "      <td>582</td>\n",
              "      <td>22</td>\n",
              "      <td>7</td>\n",
              "      <td>2</td>\n",
              "      <td>2</td>\n",
              "      <td>12</td>\n",
              "      <td>3</td>\n",
              "      <td>1</td>\n",
              "      <td>2</td>\n",
              "      <td>9</td>\n",
              "      <td>...</td>\n",
              "      <td>-358.0</td>\n",
              "      <td>-110.8</td>\n",
              "      <td>-239.0</td>\n",
              "      <td>1.0</td>\n",
              "      <td>1.0</td>\n",
              "      <td>0.0</td>\n",
              "      <td>0.2</td>\n",
              "      <td>0.0</td>\n",
              "      <td>0.4</td>\n",
              "      <td>0.4</td>\n",
              "    </tr>\n",
              "  </tbody>\n",
              "</table>\n",
              "<p>5 rows × 262 columns</p>\n",
              "</div>\n",
              "      <button class=\"colab-df-convert\" onclick=\"convertToInteractive('df-d28e401f-b773-4fed-be31-15b25e33a0b5')\"\n",
              "              title=\"Convert this dataframe to an interactive table.\"\n",
              "              style=\"display:none;\">\n",
              "        \n",
              "  <svg xmlns=\"http://www.w3.org/2000/svg\" height=\"24px\"viewBox=\"0 0 24 24\"\n",
              "       width=\"24px\">\n",
              "    <path d=\"M0 0h24v24H0V0z\" fill=\"none\"/>\n",
              "    <path d=\"M18.56 5.44l.94 2.06.94-2.06 2.06-.94-2.06-.94-.94-2.06-.94 2.06-2.06.94zm-11 1L8.5 8.5l.94-2.06 2.06-.94-2.06-.94L8.5 2.5l-.94 2.06-2.06.94zm10 10l.94 2.06.94-2.06 2.06-.94-2.06-.94-.94-2.06-.94 2.06-2.06.94z\"/><path d=\"M17.41 7.96l-1.37-1.37c-.4-.4-.92-.59-1.43-.59-.52 0-1.04.2-1.43.59L10.3 9.45l-7.72 7.72c-.78.78-.78 2.05 0 2.83L4 21.41c.39.39.9.59 1.41.59.51 0 1.02-.2 1.41-.59l7.78-7.78 2.81-2.81c.8-.78.8-2.07 0-2.86zM5.41 20L4 18.59l7.72-7.72 1.47 1.35L5.41 20z\"/>\n",
              "  </svg>\n",
              "      </button>\n",
              "      \n",
              "  <style>\n",
              "    .colab-df-container {\n",
              "      display:flex;\n",
              "      flex-wrap:wrap;\n",
              "      gap: 12px;\n",
              "    }\n",
              "\n",
              "    .colab-df-convert {\n",
              "      background-color: #E8F0FE;\n",
              "      border: none;\n",
              "      border-radius: 50%;\n",
              "      cursor: pointer;\n",
              "      display: none;\n",
              "      fill: #1967D2;\n",
              "      height: 32px;\n",
              "      padding: 0 0 0 0;\n",
              "      width: 32px;\n",
              "    }\n",
              "\n",
              "    .colab-df-convert:hover {\n",
              "      background-color: #E2EBFA;\n",
              "      box-shadow: 0px 1px 2px rgba(60, 64, 67, 0.3), 0px 1px 3px 1px rgba(60, 64, 67, 0.15);\n",
              "      fill: #174EA6;\n",
              "    }\n",
              "\n",
              "    [theme=dark] .colab-df-convert {\n",
              "      background-color: #3B4455;\n",
              "      fill: #D2E3FC;\n",
              "    }\n",
              "\n",
              "    [theme=dark] .colab-df-convert:hover {\n",
              "      background-color: #434B5C;\n",
              "      box-shadow: 0px 1px 3px 1px rgba(0, 0, 0, 0.15);\n",
              "      filter: drop-shadow(0px 1px 2px rgba(0, 0, 0, 0.3));\n",
              "      fill: #FFFFFF;\n",
              "    }\n",
              "  </style>\n",
              "\n",
              "      <script>\n",
              "        const buttonEl =\n",
              "          document.querySelector('#df-d28e401f-b773-4fed-be31-15b25e33a0b5 button.colab-df-convert');\n",
              "        buttonEl.style.display =\n",
              "          google.colab.kernel.accessAllowed ? 'block' : 'none';\n",
              "\n",
              "        async function convertToInteractive(key) {\n",
              "          const element = document.querySelector('#df-d28e401f-b773-4fed-be31-15b25e33a0b5');\n",
              "          const dataTable =\n",
              "            await google.colab.kernel.invokeFunction('convertToInteractive',\n",
              "                                                     [key], {});\n",
              "          if (!dataTable) return;\n",
              "\n",
              "          const docLinkHtml = 'Like what you see? Visit the ' +\n",
              "            '<a target=\"_blank\" href=https://colab.research.google.com/notebooks/data_table.ipynb>data table notebook</a>'\n",
              "            + ' to learn more about interactive tables.';\n",
              "          element.innerHTML = '';\n",
              "          dataTable['output_type'] = 'display_data';\n",
              "          await google.colab.output.renderOutput(dataTable, element);\n",
              "          const docLink = document.createElement('div');\n",
              "          docLink.innerHTML = docLinkHtml;\n",
              "          element.appendChild(docLink);\n",
              "        }\n",
              "      </script>\n",
              "    </div>\n",
              "  </div>\n",
              "  "
            ]
          },
          "metadata": {},
          "execution_count": 48
        }
      ]
    },
    {
      "cell_type": "markdown",
      "source": [
        "#### Это будет наш итоговый датасет"
      ],
      "metadata": {
        "id": "u2IbZt1e0l2z"
      }
    },
    {
      "cell_type": "code",
      "source": [
        "SEED = 10801\n",
        "sns.set_style(style=\"whitegrid\")\n",
        "plt.rcParams[\"figure.figsize\"] = 8, 6\n",
        "warnings.filterwarnings(\"ignore\")"
      ],
      "metadata": {
        "id": "NNc5w5Mt7mWK"
      },
      "execution_count": null,
      "outputs": []
    },
    {
      "cell_type": "code",
      "source": [
        "df_train_features = pd.read_csv(\"/content/drive/MyDrive/train_data.csv\", index_col=\"match_id_hash\")\n",
        "df_train_targets = pd.read_csv(\"/content/drive/MyDrive/train_targets.csv\", index_col=\"match_id_hash\")\n"
      ],
      "metadata": {
        "id": "B6pqUKv41Zwc"
      },
      "execution_count": null,
      "outputs": []
    },
    {
      "cell_type": "code",
      "source": [
        "X = df_train_features.values\n",
        "y = df_train_targets[\"radiant_win\"].values.astype(\"int8\")\n",
        "X_train, X_valid, y_train, y_valid = train_test_split(X, y, \n",
        "                                                      test_size=0.3, \n",
        "                                                      random_state=SEED)"
      ],
      "metadata": {
        "id": "a-dUY2WC7mnU"
      },
      "execution_count": null,
      "outputs": []
    },
    {
      "cell_type": "code",
      "source": [
        "sns.histplot(y)"
      ],
      "metadata": {
        "colab": {
          "base_uri": "https://localhost:8080/",
          "height": 391
        },
        "id": "GPzl7NIgEjgW",
        "outputId": "9f58aa83-c3cf-46a4-e910-a469746b8267"
      },
      "execution_count": null,
      "outputs": [
        {
          "output_type": "execute_result",
          "data": {
            "text/plain": [
              "<matplotlib.axes._subplots.AxesSubplot at 0x7ff920f35ad0>"
            ]
          },
          "metadata": {},
          "execution_count": 179
        },
        {
          "output_type": "display_data",
          "data": {
            "text/plain": [
              "<Figure size 576x432 with 1 Axes>"
            ],
            "image/png": "[encoded data removed]"
          },
          "metadata": {}
        }
      ]
    },
    {
      "cell_type": "markdown",
      "source": [
        "Баланс классов хороший, не будем никак его менять"
      ],
      "metadata": {
        "id": "aLyIL8Z0ErUy"
      }
    },
    {
      "cell_type": "code",
      "source": [
        "%%time\n",
        "rf_model = RandomForestClassifier(n_estimators=300, max_depth=7, n_jobs=-1, random_state=SEED)\n",
        "rf_model.fit(X_train, y_train)\n",
        "y_pred = rf_model.predict_proba(X_valid)[:, 1]\n",
        "valid_score = roc_auc_score(y_valid, y_pred)\n",
        "print(\"ROC-AUC score на отложенной части:\", valid_score)"
      ],
      "metadata": {
        "colab": {
          "base_uri": "https://localhost:8080/"
        },
        "id": "BOADMrRD09NN",
        "outputId": "407a78ab-7d81-48d7-829d-552b570ad57c"
      },
      "execution_count": null,
      "outputs": [
        {
          "output_type": "stream",
          "name": "stdout",
          "text": [
            "ROC-AUC score на отложенной части: 0.7754387258058622\n",
            "CPU times: user 29.8 s, sys: 84.2 ms, total: 29.9 s\n",
            "Wall time: 15.6 s\n"
          ]
        }
      ]
    },
    {
      "cell_type": "markdown",
      "source": [
        "#### Кросс-валидация"
      ],
      "metadata": {
        "id": "TEslX5-_3EPf"
      }
    },
    {
      "cell_type": "code",
      "source": [
        "%%time\n",
        "cv = ShuffleSplit(n_splits=5, test_size=0.3, random_state=SEED)\n",
        "rf_model = RandomForestClassifier(n_estimators=300, max_depth=7, n_jobs=-1, random_state=SEED)\n",
        "cv_scores_rf = cross_val_score(rf_model, X, y, cv=cv, scoring=\"roc_auc\")\n",
        "print(f\"Среднее значение ROC-AUC на кросс-валидации: {cv_scores_rf.mean()}\")"
      ],
      "metadata": {
        "colab": {
          "base_uri": "https://localhost:8080/"
        },
        "id": "QZJtIb1U09P4",
        "outputId": "f41bf847-d6a1-4c06-9c5f-c99617db54ff"
      },
      "execution_count": null,
      "outputs": [
        {
          "output_type": "stream",
          "name": "stdout",
          "text": [
            "Среднее значение ROC-AUC на кросс-валидации: 0.7720210676055513\n",
            "CPU times: user 7.34 s, sys: 549 ms, total: 7.89 s\n",
            "Wall time: 1min 35s\n"
          ]
        }
      ]
    },
    {
      "cell_type": "code",
      "source": [
        "%%time\n",
        "cv_scores_extended = cross_val_score(rf_model, data.values, y, \n",
        "                                     cv=cv, scoring=\"roc_auc\", n_jobs=-1)\n",
        "print(f\"ROC-AUC на кросс-валидации для новых признаков: {cv_scores_extended.mean()}\")\n",
        "print(f\"ROC-AUC на кросс-валидации для базовой модели: {cv_scores_rf.mean()}\")"
      ],
      "metadata": {
        "colab": {
          "base_uri": "https://localhost:8080/"
        },
        "id": "jtY99OMi09Vi",
        "outputId": "ad5adf84-3437-4829-a173-c74a2c8ee622"
      },
      "execution_count": null,
      "outputs": [
        {
          "output_type": "stream",
          "name": "stdout",
          "text": [
            "ROC-AUC на кросс-валидации для новых признаков: 0.8125309752637838\n",
            "ROC-AUC на кросс-валидации для базовой модели: 0.7720210676055513\n",
            "CPU times: user 636 ms, sys: 205 ms, total: 841 ms\n",
            "Wall time: 1min 26s\n"
          ]
        }
      ]
    },
    {
      "cell_type": "markdown",
      "source": [
        "#### Качество улучшилось, теперь почистим данные"
      ],
      "metadata": {
        "id": "FhvXMr6B8gcO"
      }
    },
    {
      "cell_type": "code",
      "source": [
        "np.unique(data.dtypes)"
      ],
      "metadata": {
        "colab": {
          "base_uri": "https://localhost:8080/"
        },
        "id": "YXaDsNFm09m_",
        "outputId": "db759c27-f658-4aee-897d-ed743244536c"
      },
      "execution_count": null,
      "outputs": [
        {
          "output_type": "execute_result",
          "data": {
            "text/plain": [
              "array([dtype('int64'), dtype('float64')], dtype=object)"
            ]
          },
          "metadata": {},
          "execution_count": 56
        }
      ]
    },
    {
      "cell_type": "code",
      "source": [
        "data.columns.values[:5]"
      ],
      "metadata": {
        "colab": {
          "base_uri": "https://localhost:8080/"
        },
        "id": "HPrZkLT909qD",
        "outputId": "8910de1e-f4a3-4af7-e7ae-b1332012950e"
      },
      "execution_count": null,
      "outputs": [
        {
          "output_type": "execute_result",
          "data": {
            "text/plain": [
              "array(['game_time', 'game_mode', 'lobby_type', 'objectives_len',\n",
              "       'chat_len'], dtype=object)"
            ]
          },
          "metadata": {},
          "execution_count": 59
        }
      ]
    },
    {
      "cell_type": "markdown",
      "source": [
        "Эти признаки явно категориальные, хотя и закодированы числами. Остальные признаки это либо статистика на каждого игрока, либо мои добавленные признаки, которые все числовые, их так и оставим. Попробуем перекодировать категориальные признаки, вдруг это улучшит прогнозы. "
      ],
      "metadata": {
        "id": "0QTb3h_H_ipm"
      }
    },
    {
      "cell_type": "code",
      "source": [
        "#print(data.game_mode.value_counts(), data.lobby_type.value_counts(), data.chat_len.value_counts(), data.objectives_len.value_counts(), sep=\"/n\")"
      ],
      "metadata": {
        "id": "xBe16thV09ty"
      },
      "execution_count": null,
      "outputs": []
    },
    {
      "cell_type": "code",
      "source": [
        "len(data.game_time.unique())"
      ],
      "metadata": {
        "colab": {
          "base_uri": "https://localhost:8080/"
        },
        "id": "QEHnrNL309wL",
        "outputId": "06b748a2-7d91-4a3d-9cbc-0c6d2067293e"
      },
      "execution_count": null,
      "outputs": [
        {
          "output_type": "execute_result",
          "data": {
            "text/plain": [
              "3314"
            ]
          },
          "metadata": {},
          "execution_count": 65
        }
      ]
    },
    {
      "cell_type": "code",
      "source": [
        "data.chat_len.hist(bins=10)"
      ],
      "metadata": {
        "id": "lTpb7Iya7mrW",
        "colab": {
          "base_uri": "https://localhost:8080/",
          "height": 391
        },
        "outputId": "43f4155f-432d-42fb-d0d0-877e07702620"
      },
      "execution_count": null,
      "outputs": [
        {
          "output_type": "execute_result",
          "data": {
            "text/plain": [
              "<matplotlib.axes._subplots.AxesSubplot at 0x7ff92049c650>"
            ]
          },
          "metadata": {},
          "execution_count": 198
        },
        {
          "output_type": "display_data",
          "data": {
            "text/plain": [
              "<Figure size 576x432 with 1 Axes>"
            ],
            "image/png": "[encoded data removed]"
          },
          "metadata": {}
        }
      ]
    },
    {
      "cell_type": "code",
      "source": [
        "data.objectives_len.hist()"
      ],
      "metadata": {
        "id": "U6xtUKs47mun",
        "colab": {
          "base_uri": "https://localhost:8080/",
          "height": 391
        },
        "outputId": "e6421347-f8d3-4526-bce9-797eb81af72b"
      },
      "execution_count": null,
      "outputs": [
        {
          "output_type": "execute_result",
          "data": {
            "text/plain": [
              "<matplotlib.axes._subplots.AxesSubplot at 0x7ff920e6bdd0>"
            ]
          },
          "metadata": {},
          "execution_count": 184
        },
        {
          "output_type": "display_data",
          "data": {
            "text/plain": [
              "<Figure size 576x432 with 1 Axes>"
            ],
            "image/png": "[encoded data removed]"
          },
          "metadata": {}
        }
      ]
    },
    {
      "cell_type": "code",
      "source": [
        "data.game_mode.hist()"
      ],
      "metadata": {
        "colab": {
          "base_uri": "https://localhost:8080/",
          "height": 391
        },
        "id": "09Rwji-ME5jD",
        "outputId": "85188dc5-3b32-425c-9efe-00d569d47a10"
      },
      "execution_count": null,
      "outputs": [
        {
          "output_type": "execute_result",
          "data": {
            "text/plain": [
              "<matplotlib.axes._subplots.AxesSubplot at 0x7ff9207979d0>"
            ]
          },
          "metadata": {},
          "execution_count": 237
        },
        {
          "output_type": "display_data",
          "data": {
            "text/plain": [
              "<Figure size 576x432 with 1 Axes>"
            ],
            "image/png": "[encoded data removed]"
          },
          "metadata": {}
        }
      ]
    },
    {
      "cell_type": "code",
      "source": [
        "data.lobby_type.hist()"
      ],
      "metadata": {
        "colab": {
          "base_uri": "https://localhost:8080/",
          "height": 391
        },
        "id": "v9oUiptuE5mG",
        "outputId": "b93f8198-03f2-497c-8ee4-5d66a4d0c76b"
      },
      "execution_count": null,
      "outputs": [
        {
          "output_type": "execute_result",
          "data": {
            "text/plain": [
              "<matplotlib.axes._subplots.AxesSubplot at 0x7ff9202c27d0>"
            ]
          },
          "metadata": {},
          "execution_count": 219
        },
        {
          "output_type": "display_data",
          "data": {
            "text/plain": [
              "<Figure size 576x432 with 1 Axes>"
            ],
            "image/png": "[encoded data removed]"
          },
          "metadata": {}
        }
      ]
    },
    {
      "cell_type": "code",
      "source": [
        "data.game_time.hist()"
      ],
      "metadata": {
        "colab": {
          "base_uri": "https://localhost:8080/",
          "height": 391
        },
        "id": "rN3G4nuOE5-7",
        "outputId": "d0285535-7ae4-40bc-d784-3443753be591"
      },
      "execution_count": null,
      "outputs": [
        {
          "output_type": "execute_result",
          "data": {
            "text/plain": [
              "<matplotlib.axes._subplots.AxesSubplot at 0x7ff920d44990>"
            ]
          },
          "metadata": {},
          "execution_count": 187
        },
        {
          "output_type": "display_data",
          "data": {
            "text/plain": [
              "<Figure size 576x432 with 1 Axes>"
            ],
            "image/png": "[encoded data removed]"
          },
          "metadata": {}
        }
      ]
    },
    {
      "cell_type": "markdown",
      "source": [
        "Лобби можно перекодировать бинарной переменно 1/0. Длинну чата через бины сделать. Режим игры тоже разнообразием не блещет, сделаем его OHT, objectives len сделаем через бины. "
      ],
      "metadata": {
        "id": "_JKhnUeFFG6u"
      }
    },
    {
      "cell_type": "code",
      "source": [
        "# from sklearn.compose import ColumnTransformer\n",
        "# from sklearn.pipeline import Pipeline\n",
        "from sklearn.preprocessing import (LabelEncoder, KBinsDiscretizer, OneHotEncoder)"
      ],
      "metadata": {
        "id": "__Q5D3U5E5ph"
      },
      "execution_count": null,
      "outputs": []
    },
    {
      "cell_type": "code",
      "source": [
        "le = LabelEncoder()\n",
        "lobby_type = le.fit_transform(data[[\"lobby_type\"]])\n",
        "lobby_type"
      ],
      "metadata": {
        "colab": {
          "base_uri": "https://localhost:8080/"
        },
        "id": "0U1Y-lJLE5r2",
        "outputId": "8511a836-faec-47ec-f2d3-029cf2d85a61"
      },
      "execution_count": null,
      "outputs": [
        {
          "output_type": "execute_result",
          "data": {
            "text/plain": [
              "array([0, 0, 1, ..., 0, 1, 1])"
            ]
          },
          "metadata": {},
          "execution_count": 200
        }
      ]
    },
    {
      "cell_type": "code",
      "source": [
        "bin = KBinsDiscretizer(n_bins=4)\n",
        "objectives_len = bin.fit_transform(data[[\"objectives_len\"]])\n",
        "objectives_len.toarray()"
      ],
      "metadata": {
        "colab": {
          "base_uri": "https://localhost:8080/"
        },
        "id": "Brk0tfBnE55A",
        "outputId": "937bd27c-8db3-409f-c136-314ce64969f8"
      },
      "execution_count": null,
      "outputs": [
        {
          "output_type": "execute_result",
          "data": {
            "text/plain": [
              "array([[0., 1., 0., 0.],\n",
              "       [1., 0., 0., 0.],\n",
              "       [1., 0., 0., 0.],\n",
              "       ...,\n",
              "       [0., 0., 1., 0.],\n",
              "       [0., 1., 0., 0.],\n",
              "       [0., 1., 0., 0.]])"
            ]
          },
          "metadata": {},
          "execution_count": 201
        }
      ]
    },
    {
      "cell_type": "code",
      "source": [
        "ohe = OneHotEncoder()\n",
        "game_mode = ohe.fit_transform(data[[\"game_mode\"]])\n",
        "game_mode.toarray()"
      ],
      "metadata": {
        "colab": {
          "base_uri": "https://localhost:8080/"
        },
        "id": "j_ClQMP6E51l",
        "outputId": "9dda1213-616a-4719-ce1b-1e4683ae24e1"
      },
      "execution_count": null,
      "outputs": [
        {
          "output_type": "execute_result",
          "data": {
            "text/plain": [
              "array([[0., 0., 1., ..., 0., 0., 0.],\n",
              "       [0., 0., 0., ..., 0., 0., 1.],\n",
              "       [0., 0., 0., ..., 0., 1., 0.],\n",
              "       ...,\n",
              "       [0., 0., 1., ..., 0., 0., 0.],\n",
              "       [0., 0., 0., ..., 0., 1., 0.],\n",
              "       [0., 0., 0., ..., 0., 1., 0.]])"
            ]
          },
          "metadata": {},
          "execution_count": 231
        }
      ]
    },
    {
      "cell_type": "code",
      "source": [
        "# bin = KBinsDiscretizer(n_bins=2)\n",
        "# game_mode = bin.fit_transform(data[[\"game_mode\"]])\n",
        "# game_mode.toarray()"
      ],
      "metadata": {
        "id": "4rDjznLavpW8"
      },
      "execution_count": null,
      "outputs": []
    },
    {
      "cell_type": "code",
      "source": [
        "bin = KBinsDiscretizer(n_bins=10)\n",
        "chat_len = bin.fit_transform(data[[\"chat_len\"]])\n",
        "chat_len.toarray()"
      ],
      "metadata": {
        "colab": {
          "base_uri": "https://localhost:8080/"
        },
        "id": "R9vHQ8TVE578",
        "outputId": "1bedf297-0411-4d96-e023-5839adbfc9e4"
      },
      "execution_count": null,
      "outputs": [
        {
          "output_type": "execute_result",
          "data": {
            "text/plain": [
              "array([[0., 0., 0., ..., 1., 0., 0.],\n",
              "       [1., 0., 0., ..., 0., 0., 0.],\n",
              "       [1., 0., 0., ..., 0., 0., 0.],\n",
              "       ...,\n",
              "       [1., 0., 0., ..., 0., 0., 0.],\n",
              "       [1., 0., 0., ..., 0., 0., 0.],\n",
              "       [0., 0., 0., ..., 0., 0., 1.]])"
            ]
          },
          "metadata": {},
          "execution_count": 203
        }
      ]
    },
    {
      "cell_type": "code",
      "source": [
        "bin = KBinsDiscretizer(n_bins=20)\n",
        "game_time = bin.fit_transform(data[[\"game_time\"]])\n",
        "game_time.toarray()"
      ],
      "metadata": {
        "colab": {
          "base_uri": "https://localhost:8080/"
        },
        "id": "qA61ffTFE6BZ",
        "outputId": "1406e46c-dbe8-4de3-da39-1ec01a2c4dbc"
      },
      "execution_count": null,
      "outputs": [
        {
          "output_type": "execute_result",
          "data": {
            "text/plain": [
              "array([[0., 0., 0., ..., 0., 0., 0.],\n",
              "       [1., 0., 0., ..., 0., 0., 0.],\n",
              "       [0., 1., 0., ..., 0., 0., 0.],\n",
              "       ...,\n",
              "       [0., 0., 0., ..., 0., 0., 0.],\n",
              "       [0., 0., 0., ..., 0., 0., 0.],\n",
              "       [0., 0., 0., ..., 0., 0., 0.]])"
            ]
          },
          "metadata": {},
          "execution_count": 258
        }
      ]
    },
    {
      "cell_type": "code",
      "source": [
        "time = pd.DataFrame(game_time.toarray(), columns=[\"interval\"+str(i) for i in range(1, 21)])"
      ],
      "metadata": {
        "id": "ha_EvOSuE6D_"
      },
      "execution_count": null,
      "outputs": []
    },
    {
      "cell_type": "code",
      "source": [
        "# chat = pd.DataFrame(chat_len.toarray(), columns=[\"chat\"+str(i) for i in range(1, 9)])"
      ],
      "metadata": {
        "id": "TisOLOHZE6GX"
      },
      "execution_count": null,
      "outputs": []
    },
    {
      "cell_type": "code",
      "source": [
        "mode = pd.DataFrame(game_mode.toarray(), columns=[\"cat\"+str(i) for i in range(1, 9)]) "
      ],
      "metadata": {
        "id": "ysPOviVoE6Iz"
      },
      "execution_count": null,
      "outputs": []
    },
    {
      "cell_type": "code",
      "source": [
        "objectives_len = pd.DataFrame(objectives_len.toarray(), columns=[\"len\"+str(i) for i in range(1, 5)])"
      ],
      "metadata": {
        "id": "25T4pZABE6MG"
      },
      "execution_count": null,
      "outputs": []
    },
    {
      "cell_type": "code",
      "source": [
        "lobby_type = pd.DataFrame(lobby_type, columns=[\"lobby_type\"])"
      ],
      "metadata": {
        "id": "HYfg_kDpWiae"
      },
      "execution_count": null,
      "outputs": []
    },
    {
      "cell_type": "code",
      "source": [
        "data_obj = time.join([lobby_type, objectives_len, mode]) # выкинем длинну чата"
      ],
      "metadata": {
        "id": "5TRPFdAQWihL"
      },
      "execution_count": null,
      "outputs": []
    },
    {
      "cell_type": "code",
      "source": [
        "X_tran = np.hstack((data.drop(['game_time', 'game_mode', 'lobby_type', 'objectives_len', 'chat_len'], axis=1).values, data_obj.values))"
      ],
      "metadata": {
        "id": "rETU00PkWiny"
      },
      "execution_count": null,
      "outputs": []
    },
    {
      "cell_type": "code",
      "source": [
        "%%time\n",
        "cv_scores_extended_tran = cross_val_score(rf_model, X_tran, y, \n",
        "                                     cv=cv, scoring=\"roc_auc\", n_jobs=-1)\n",
        "print(f\"ROC-AUC на кросс-валидации для новых трансформированных признаков: {cv_scores_extended_tran.mean()}\")\n",
        "print(f\"ROC-AUC на кросс-валидации для новых признаков: {cv_scores_extended.mean()}\")\n",
        "print(f\"ROC-AUC на кросс-валидации для базовой модели: {cv_scores_rf.mean()}\")"
      ],
      "metadata": {
        "colab": {
          "base_uri": "https://localhost:8080/"
        },
        "id": "LYkLHrxMZ4Cm",
        "outputId": "fa815442-29b8-44bc-d049-3c1a704360eb"
      },
      "execution_count": null,
      "outputs": [
        {
          "output_type": "stream",
          "name": "stdout",
          "text": [
            "ROC-AUC на кросс-валидации для новых трансформированных признаков: 0.8127872576589878\n",
            "ROC-AUC на кросс-валидации для новых признаков: 0.8125309752637838\n",
            "ROC-AUC на кросс-валидации для базовой модели: 0.7720210676055513\n",
            "CPU times: user 583 ms, sys: 131 ms, total: 713 ms\n",
            "Wall time: 1min 26s\n"
          ]
        }
      ]
    },
    {
      "cell_type": "markdown",
      "source": [
        "Вариант без чата и с time=20 лучший, его и будем использовать\n",
        "##### 0.8127872576589878"
      ],
      "metadata": {
        "id": "e9dfn2w5zjwZ"
      }
    },
    {
      "cell_type": "code",
      "source": [
        "names = list(data.drop(['game_time', 'game_mode', 'lobby_type', 'objectives_len', 'chat_len'], axis=1).columns) + list(data_obj.columns)"
      ],
      "metadata": {
        "id": "yKWRBS9XZ4SF"
      },
      "execution_count": null,
      "outputs": []
    },
    {
      "cell_type": "code",
      "source": [
        "data_trans = pd.DataFrame(X_tran, columns=[names])"
      ],
      "metadata": {
        "id": "O2YWKdDwZ4JY"
      },
      "execution_count": null,
      "outputs": []
    },
    {
      "cell_type": "markdown",
      "source": [
        "#### Проведем feachure-selection"
      ],
      "metadata": {
        "id": "HWxChpsz45L0"
      }
    },
    {
      "cell_type": "code",
      "source": [
        "X = data_trans.values\n",
        "X_train, X_valid, y_train, y_valid = train_test_split(X, y, \n",
        "                                                      test_size=0.3, \n",
        "                                                      random_state=SEED)"
      ],
      "metadata": {
        "id": "OvN7xaX4565T"
      },
      "execution_count": null,
      "outputs": []
    },
    {
      "cell_type": "code",
      "source": [
        "feat_labels = data_trans.columns\n",
        "forest = RandomForestClassifier(n_estimators=300, max_depth=7, n_jobs=-1, random_state=SEED) \n",
        "forest.fit(X_train, y_train) \n",
        "importances = forest.feature_importances_ \n",
        "indices = np.argsort(importances)[::-1] \n",
        "for f in range(X_train.shape[1]): \n",
        "  print(\"%2d) %-*s %f\" % (f+1,30,\n",
        "                          feat_labels[indices[f]], \n",
        "                          importances[indices[f]])) "
      ],
      "metadata": {
        "colab": {
          "base_uri": "https://localhost:8080/"
        },
        "id": "W3WaF9lp43eU",
        "outputId": "daf767fa-cbba-4344-d9e6-f121f0f3d6b2"
      },
      "execution_count": null,
      "outputs": [
        {
          "output_type": "stream",
          "name": "stdout",
          "text": [
            " 1) ('diff_gold_means',)           0.162777\n",
            " 2) ('diff_xp_means',)             0.146367\n",
            " 3) ('diff_gold_maxx',)            0.082502\n",
            " 4) ('diff_tower_kills',)          0.067540\n",
            " 5) ('diff_creeps',)               0.052966\n",
            " 6) ('diff_xp_maxx',)              0.051589\n",
            " 7) ('dire_tower_kills',)          0.023442\n",
            " 8) ('radiant_tower_kills',)       0.021501\n",
            " 9) ('r3_y',)                      0.010297\n",
            "10) ('d4_x',)                      0.010253\n",
            "11) ('d2_y',)                      0.009689\n",
            "12) ('r5_y',)                      0.009339\n",
            "13) ('r1_y',)                      0.009294\n",
            "14) ('d1_x',)                      0.009048\n",
            "15) ('r5_x',)                      0.008747\n",
            "16) ('r2_y',)                      0.008725\n",
            "17) ('r4_y',)                      0.007397\n",
            "18) ('d3_y',)                      0.007139\n",
            "19) ('d5_y',)                      0.006940\n",
            "20) ('d4_y',)                      0.006818\n",
            "21) ('r3_x',)                      0.006751\n",
            "22) ('r4_x',)                      0.006668\n",
            "23) ('d3_x',)                      0.006581\n",
            "24) ('d1_y',)                      0.006257\n",
            "25) ('r2_x',)                      0.006021\n",
            "26) ('r1_x',)                      0.005880\n",
            "27) ('d2_x',)                      0.005877\n",
            "28) ('d5_x',)                      0.005494\n",
            "29) ('d2_deaths',)                 0.004772\n",
            "30) ('r1_deaths',)                 0.004759\n",
            "31) ('r4_deaths',)                 0.004569\n",
            "32) ('r5_deaths',)                 0.004214\n",
            "33) ('r3_deaths',)                 0.003805\n",
            "34) ('d4_deaths',)                 0.003724\n",
            "35) ('r2_deaths',)                 0.003262\n",
            "36) ('dire_creeps',)               0.003251\n",
            "37) ('r4_gold',)                   0.003249\n",
            "38) ('d2_assists',)                0.003128\n",
            "39) ('d1_xp',)                     0.003026\n",
            "40) ('r2_gold',)                   0.002986\n",
            "41) ('d1_gold',)                   0.002921\n",
            "42) ('d4_gold',)                   0.002876\n",
            "43) ('r1_gold',)                   0.002783\n",
            "44) ('d4_kills',)                  0.002763\n",
            "45) ('d2_xp',)                     0.002707\n",
            "46) ('d5_gold',)                   0.002707\n",
            "47) ('d3_deaths',)                 0.002694\n",
            "48) ('d3_gold',)                   0.002657\n",
            "49) ('d4_xp',)                     0.002610\n",
            "50) ('r3_gold',)                   0.002609\n",
            "51) ('d5_deaths',)                 0.002585\n",
            "52) ('d3_assists',)                0.002505\n",
            "53) ('r1_xp',)                     0.002461\n",
            "54) ('radiant_creeps',)            0.002441\n",
            "55) ('d2_gold',)                   0.002432\n",
            "56) ('r5_gold',)                   0.002389\n",
            "57) ('r3_assists',)                0.002305\n",
            "58) ('r1_assists',)                0.002093\n",
            "59) ('r5_xp',)                     0.002083\n",
            "60) ('d3_xp',)                     0.002071\n",
            "61) ('r4_xp',)                     0.001964\n",
            "62) ('r2_xp',)                     0.001940\n",
            "63) ('d2_kills',)                  0.001933\n",
            "64) ('d1_deaths',)                 0.001931\n",
            "65) ('d5_assists',)                0.001890\n",
            "66) ('d5_xp',)                     0.001877\n",
            "67) ('r2_assists',)                0.001821\n",
            "68) ('r5_health',)                 0.001702\n",
            "69) ('r4_kills',)                  0.001694\n",
            "70) ('r4_assists',)                0.001646\n",
            "71) ('d1_kills',)                  0.001635\n",
            "72) ('d4_health',)                 0.001616\n",
            "73) ('d1_assists',)                0.001585\n",
            "74) ('d5_kills',)                  0.001576\n",
            "75) ('d4_assists',)                0.001507\n",
            "76) ('d4_level',)                  0.001504\n",
            "77) ('r4_max_health',)             0.001493\n",
            "78) ('d2_level',)                  0.001472\n",
            "79) ('r2_health',)                 0.001462\n",
            "80) ('r5_assists',)                0.001445\n",
            "81) ('r2_kills',)                  0.001429\n",
            "82) ('r3_kills',)                  0.001407\n",
            "83) ('d5_towers_killed',)          0.001372\n",
            "84) ('d5_level',)                  0.001348\n",
            "85) ('r2_level',)                  0.001324\n",
            "86) ('d2_max_health',)             0.001319\n",
            "87) ('d5_max_health',)             0.001316\n",
            "88) ('r4_health',)                 0.001302\n",
            "89) ('d1_health',)                 0.001283\n",
            "90) ('r1_level',)                  0.001276\n",
            "91) ('r3_xp',)                     0.001275\n",
            "92) ('d3_health',)                 0.001272\n",
            "93) ('r1_max_health',)             0.001255\n",
            "94) ('d1_max_health',)             0.001253\n",
            "95) ('d3_kills',)                  0.001244\n",
            "96) ('r3_health',)                 0.001212\n",
            "97) ('d1_level',)                  0.001200\n",
            "98) ('r5_max_health',)             0.001162\n",
            "99) ('d5_lh',)                     0.001151\n",
            "100) ('r3_max_health',)             0.001137\n",
            "101) ('d4_max_health',)             0.001137\n",
            "102) ('r2_max_health',)             0.001130\n",
            "103) ('r1_health',)                 0.001109\n",
            "104) ('r4_teamfight_participation',) 0.001108\n",
            "105) ('d2_health',)                 0.001107\n",
            "106) ('d4_max_mana',)               0.001079\n",
            "107) ('d5_health',)                 0.001078\n",
            "108) ('r4_towers_killed',)          0.001073\n",
            "109) ('d1_lh',)                     0.001070\n",
            "110) ('r1_kills',)                  0.001065\n",
            "111) ('r1_teamfight_participation',) 0.001058\n",
            "112) ('r1_max_mana',)               0.001038\n",
            "113) ('r3_max_mana',)               0.001022\n",
            "114) ('r2_lh',)                     0.001020\n",
            "115) ('r5_lh',)                     0.001018\n",
            "116) ('r5_level',)                  0.001014\n",
            "117) ('r5_max_mana',)               0.001003\n",
            "118) ('r5_hero_id',)                0.000976\n",
            "119) ('d5_max_mana',)               0.000955\n",
            "120) ('d2_lh',)                     0.000953\n",
            "121) ('d2_max_mana',)               0.000950\n",
            "122) ('r2_teamfight_participation',) 0.000938\n",
            "123) ('d3_max_health',)             0.000922\n",
            "124) ('r2_rune_pickups',)           0.000921\n",
            "125) ('d1_max_mana',)               0.000919\n",
            "126) ('r4_max_mana',)               0.000918\n",
            "127) ('r5_teamfight_participation',) 0.000909\n",
            "128) ('r5_towers_killed',)          0.000907\n",
            "129) ('d3_level',)                  0.000902\n",
            "130) ('r4_lh',)                     0.000890\n",
            "131) ('r5_kills',)                  0.000870\n",
            "132) ('d4_lh',)                     0.000862\n",
            "133) ('d3_lh',)                     0.000848\n",
            "134) ('r2_hero_id',)                0.000845\n",
            "135) ('d2_rune_pickups',)           0.000839\n",
            "136) ('r4_level',)                  0.000832\n",
            "137) ('r3_hero_id',)                0.000829\n",
            "138) ('r3_lh',)                     0.000827\n",
            "139) ('r1_lh',)                     0.000814\n",
            "140) ('r3_rune_pickups',)           0.000812\n",
            "141) ('d4_teamfight_participation',) 0.000800\n",
            "142) ('d3_max_mana',)               0.000792\n",
            "143) ('d1_towers_killed',)          0.000786\n",
            "144) ('d3_hero_id',)                0.000785\n",
            "145) ('d2_teamfight_participation',) 0.000775\n",
            "146) ('len4',)                      0.000775\n",
            "147) ('r3_teamfight_participation',) 0.000771\n",
            "148) ('d5_teamfight_participation',) 0.000763\n",
            "149) ('r4_rune_pickups',)           0.000756\n",
            "150) ('d1_stuns',)                  0.000748\n",
            "151) ('d4_hero_id',)                0.000747\n",
            "152) ('d1_hero_id',)                0.000739\n",
            "153) ('r3_level',)                  0.000738\n",
            "154) ('r1_hero_id',)                0.000737\n",
            "155) ('d3_teamfight_participation',) 0.000735\n",
            "156) ('d4_rune_pickups',)           0.000735\n",
            "157) ('d1_rune_pickups',)           0.000727\n",
            "158) ('d1_teamfight_participation',) 0.000724\n",
            "159) ('d2_hero_id',)                0.000722\n",
            "160) ('r2_max_mana',)               0.000708\n",
            "161) ('d5_rune_pickups',)           0.000707\n",
            "162) ('d5_hero_id',)                0.000693\n",
            "163) ('r4_hero_id',)                0.000690\n",
            "164) ('r3_towers_killed',)          0.000682\n",
            "165) ('r4_stuns',)                  0.000666\n",
            "166) ('d2_towers_killed',)          0.000656\n",
            "167) ('r3_denies',)                 0.000650\n",
            "168) ('d2_denies',)                 0.000637\n",
            "169) ('d4_towers_killed',)          0.000636\n",
            "170) ('d4_denies',)                 0.000632\n",
            "171) ('r1_stuns',)                  0.000614\n",
            "172) ('d3_stuns',)                  0.000613\n",
            "173) ('d2_stuns',)                  0.000613\n",
            "174) ('r2_denies',)                 0.000604\n",
            "175) ('r5_denies',)                 0.000604\n",
            "176) ('r3_stuns',)                  0.000602\n",
            "177) ('d3_rune_pickups',)           0.000598\n",
            "178) ('r1_denies',)                 0.000597\n",
            "179) ('r2_stuns',)                  0.000592\n",
            "180) ('r5_rune_pickups',)           0.000584\n",
            "181) ('r5_stuns',)                  0.000566\n",
            "182) ('r4_denies',)                 0.000560\n",
            "183) ('d3_denies',)                 0.000542\n",
            "184) ('r1_rune_pickups',)           0.000538\n",
            "185) ('d4_stuns',)                  0.000517\n",
            "186) ('d1_denies',)                 0.000492\n",
            "187) ('d5_denies',)                 0.000481\n",
            "188) ('d3_towers_killed',)          0.000481\n",
            "189) ('d5_stuns',)                  0.000458\n",
            "190) ('r1_sen_placed',)             0.000367\n",
            "191) ('r5_obs_placed',)             0.000346\n",
            "192) ('r1_obs_placed',)             0.000325\n",
            "193) ('d2_obs_placed',)             0.000313\n",
            "194) ('r1_towers_killed',)          0.000301\n",
            "195) ('d2_creeps_stacked',)         0.000298\n",
            "196) ('r3_creeps_stacked',)         0.000294\n",
            "197) ('d4_sen_placed',)             0.000291\n",
            "198) ('r5_sen_placed',)             0.000276\n",
            "199) ('d1_obs_placed',)             0.000268\n",
            "200) ('r4_obs_placed',)             0.000264\n",
            "201) ('d5_obs_placed',)             0.000255\n",
            "202) ('d4_creeps_stacked',)         0.000252\n",
            "203) ('r4_creeps_stacked',)         0.000245\n",
            "204) ('r2_towers_killed',)          0.000242\n",
            "205) ('d5_sen_placed',)             0.000242\n",
            "206) ('r2_creeps_stacked',)         0.000236\n",
            "207) ('d1_sen_placed',)             0.000235\n",
            "208) ('d3_obs_placed',)             0.000234\n",
            "209) ('radiant_agility_balance',)   0.000222\n",
            "210) ('r2_obs_placed',)             0.000217\n",
            "211) ('d4_obs_placed',)             0.000216\n",
            "212) ('r3_sen_placed',)             0.000216\n",
            "213) ('d3_camps_stacked',)          0.000215\n",
            "214) ('d5_creeps_stacked',)         0.000214\n",
            "215) ('r4_sen_placed',)             0.000209\n",
            "216) ('r2_sen_placed',)             0.000201\n",
            "217) ('dire_agility_balance',)      0.000200\n",
            "218) ('r5_creeps_stacked',)         0.000190\n",
            "219) ('r3_obs_placed',)             0.000190\n",
            "220) ('d1_creeps_stacked',)         0.000189\n",
            "221) ('d5_camps_stacked',)          0.000187\n",
            "222) ('d2_sen_placed',)             0.000181\n",
            "223) ('r1_creeps_stacked',)         0.000181\n",
            "224) ('dir_pred',)                  0.000181\n",
            "225) ('r4_firstblood_claimed',)     0.000176\n",
            "226) ('d3_creeps_stacked',)         0.000167\n",
            "227) ('d3_sen_placed',)             0.000164\n",
            "228) ('dire_strenth_balance',)      0.000162\n",
            "229) ('d4_camps_stacked',)          0.000161\n",
            "230) ('radiant_pred',)              0.000144\n",
            "231) ('d2_camps_stacked',)          0.000144\n",
            "232) ('diff_preds',)                0.000137\n",
            "233) ('len2',)                      0.000130\n",
            "234) ('radiant_strenth_balance',)   0.000123\n",
            "235) ('cat8',)                      0.000118\n",
            "236) ('r2_camps_stacked',)          0.000118\n",
            "237) ('r4_camps_stacked',)          0.000116\n",
            "238) ('r1_camps_stacked',)          0.000108\n",
            "239) ('d1_camps_stacked',)          0.000108\n",
            "240) ('r3_camps_stacked',)          0.000097\n",
            "241) ('r2_firstblood_claimed',)     0.000095\n",
            "242) ('r5_camps_stacked',)          0.000094\n",
            "243) ('len3',)                      0.000093\n",
            "244) ('cat7',)                      0.000090\n",
            "245) ('r3_roshans_killed',)         0.000081\n",
            "246) ('lobby_type',)                0.000078\n",
            "247) ('d4_roshans_killed',)         0.000065\n",
            "248) ('d4_firstblood_claimed',)     0.000062\n",
            "249) ('interval20',)                0.000059\n",
            "250) ('d1_firstblood_claimed',)     0.000059\n",
            "251) ('d2_roshans_killed',)         0.000058\n",
            "252) ('d5_firstblood_claimed',)     0.000057\n",
            "253) ('d3_firstblood_claimed',)     0.000053\n",
            "254) ('r3_firstblood_claimed',)     0.000052\n",
            "255) ('r4_roshans_killed',)         0.000051\n",
            "256) ('r5_roshans_killed',)         0.000048\n",
            "257) ('len1',)                      0.000048\n",
            "258) ('interval19',)                0.000043\n",
            "259) ('d3_roshans_killed',)         0.000043\n",
            "260) ('interval8',)                 0.000043\n",
            "261) ('d2_firstblood_claimed',)     0.000037\n",
            "262) ('interval6',)                 0.000037\n",
            "263) ('r5_firstblood_claimed',)     0.000034\n",
            "264) ('interval16',)                0.000033\n",
            "265) ('interval13',)                0.000033\n",
            "266) ('interval5',)                 0.000031\n",
            "267) ('r2_roshans_killed',)         0.000030\n",
            "268) ('interval12',)                0.000029\n",
            "269) ('interval11',)                0.000029\n",
            "270) ('interval18',)                0.000027\n",
            "271) ('interval14',)                0.000025\n",
            "272) ('cat2',)                      0.000025\n",
            "273) ('r1_firstblood_claimed',)     0.000023\n",
            "274) ('cat3',)                      0.000023\n",
            "275) ('r1_roshans_killed',)         0.000021\n",
            "276) ('interval17',)                0.000018\n",
            "277) ('d1_roshans_killed',)         0.000018\n",
            "278) ('interval10',)                0.000014\n",
            "279) ('cat1',)                      0.000013\n",
            "280) ('interval4',)                 0.000012\n",
            "281) ('interval15',)                0.000010\n",
            "282) ('interval9',)                 0.000010\n",
            "283) ('d5_roshans_killed',)         0.000007\n",
            "284) ('interval2',)                 0.000004\n",
            "285) ('interval3',)                 0.000004\n",
            "286) ('cat6',)                      0.000004\n",
            "287) ('cat4',)                      0.000003\n",
            "288) ('interval7',)                 0.000000\n",
            "289) ('interval1',)                 0.000000\n",
            "290) ('cat5',)                      0.000000\n"
          ]
        }
      ]
    },
    {
      "cell_type": "code",
      "source": [
        "fig_dims = (10, 8)\n",
        "fig, ax = plt.subplots(figsize=fig_dims)\n",
        "plt.title('Важность признаков') \n",
        "plt.bar(range(X_train.shape[1]), \n",
        "        importances[indices], \n",
        "        align='center') \n",
        "plt.xticks(range(X_train.shape[1]), \n",
        "                 feat_labels[indices], \n",
        "                 rotation=90) \n",
        "plt.xlim([-1, X_train.shape[1]]) \n",
        "plt.tight_layout() \n",
        "plt.show()"
      ],
      "metadata": {
        "colab": {
          "base_uri": "https://localhost:8080/",
          "height": 585
        },
        "id": "0P-ZzIurZ4fs",
        "outputId": "cdc93a4a-2306-4c40-bc4c-cc0b3c4336d0"
      },
      "execution_count": null,
      "outputs": [
        {
          "output_type": "display_data",
          "data": {
            "text/plain": [
              "<Figure size 720x576 with 1 Axes>"
            ],
            "image/png": "[encoded data removed]"
          },
          "metadata": {}
        }
      ]
    },
    {
      "cell_type": "markdown",
      "source": [
        "Построим модель на первых n-признаках"
      ],
      "metadata": {
        "id": "3uTMH1GN82z2"
      }
    },
    {
      "cell_type": "code",
      "source": [
        "data_red = data_trans[list(map(lambda x: feat_labels[x][0], indices[:200]))]"
      ],
      "metadata": {
        "id": "O9NWDrLf43xN"
      },
      "execution_count": null,
      "outputs": []
    },
    {
      "cell_type": "code",
      "source": [
        "%%time\n",
        "cv_scores_extended_red = cross_val_score(rf_model, data_red.values, y, \n",
        "                                     cv=cv, scoring=\"roc_auc\", n_jobs=-1)\n",
        "print(f\"ROC-AUC на кросс-валидации для новых трансформированных признаков: {cv_scores_extended_tran.mean()}\")\n",
        "print(f\"ROC-AUC на кросс-валидации для новых трансформированных признаков с редукцией: {cv_scores_extended_red.mean()}\")\n",
        "print(f\"ROC-AUC на кросс-валидации для базовой модели: {cv_scores_rf.mean()}\")"
      ],
      "metadata": {
        "colab": {
          "base_uri": "https://localhost:8080/"
        },
        "id": "k6aEg9I4432c",
        "outputId": "e230b375-dd72-4d35-e55f-10b79c96fda2"
      },
      "execution_count": null,
      "outputs": [
        {
          "output_type": "stream",
          "name": "stdout",
          "text": [
            "ROC-AUC на кросс-валидации для новых трансформированных признаков: 0.8127872576589878\n",
            "ROC-AUC на кросс-валидации для новых трансформированных признаков с редукцией: 0.812967073891145\n",
            "ROC-AUC на кросс-валидации для базовой модели: 0.7720210676055513\n",
            "CPU times: user 560 ms, sys: 99.6 ms, total: 659 ms\n",
            "Wall time: 1min 30s\n"
          ]
        }
      ]
    },
    {
      "cell_type": "markdown",
      "source": [
        "##### 200 признаков - 0.812967073891145"
      ],
      "metadata": {
        "id": "hTVlHhgvB6mk"
      }
    },
    {
      "cell_type": "code",
      "source": [
        "params = [50, 80, 100, 120, 150, 200, 220]\n",
        "list_val = []\n",
        "for val in params:\n",
        "  data_red = data_trans[list(map(lambda x: feat_labels[x][0], indices[:val]))]\n",
        "  cv_scores_extended_red = cross_val_score(rf_model, data_red.values, y, \n",
        "                                     cv=cv, scoring=\"roc_auc\", n_jobs=-1)\n",
        "  list_val.append(cv_scores_extended_red.mean())\n",
        "list_val"
      ],
      "metadata": {
        "colab": {
          "base_uri": "https://localhost:8080/"
        },
        "id": "tdQHQqtn435T",
        "outputId": "a6840645-8cdb-4daa-cdcd-d1038fb1a1f5"
      },
      "execution_count": null,
      "outputs": [
        {
          "output_type": "execute_result",
          "data": {
            "text/plain": [
              "[0.8139845722446996,\n",
              " 0.8138090851040598,\n",
              " 0.8137699358365389,\n",
              " 0.8135530593601841,\n",
              " 0.8132279784358785,\n",
              " 0.812967073891145,\n",
              " 0.8123918936296912]"
            ]
          },
          "metadata": {},
          "execution_count": 291
        }
      ]
    },
    {
      "cell_type": "code",
      "source": [
        "%%time\n",
        "data_red = data_trans[list(map(lambda x: feat_labels[x][0], indices[:50]))]\n",
        "rf_model_best = RandomForestClassifier(n_estimators = 700, max_depth = 9, random_state=SEED)\n",
        "cv_scores_extended_red = cross_val_score(rf_model_best, data_red.values, y, \n",
        "                                     cv=cv, scoring=\"roc_auc\", n_jobs=-1)\n",
        "print(f\"ROC-AUC на кросс-валидации для новых трансформированных признаков с редукцией: {cv_scores_extended_red.mean()}\")"
      ],
      "metadata": {
        "colab": {
          "base_uri": "https://localhost:8080/"
        },
        "id": "s4igyWD0437-",
        "outputId": "367bd763-4c4d-401c-92fa-d2d5e14edba5"
      },
      "execution_count": null,
      "outputs": [
        {
          "output_type": "stream",
          "name": "stdout",
          "text": [
            "ROC-AUC на кросс-валидации для новых трансформированных признаков с редукцией: 0.8146143205913321\n",
            "CPU times: user 1.07 s, sys: 196 ms, total: 1.27 s\n",
            "Wall time: 2min 50s\n"
          ]
        }
      ]
    },
    {
      "cell_type": "code",
      "source": [
        "%%time\n",
        "data_red = data_trans[list(map(lambda x: feat_labels[x][0], indices[:20]))]\n",
        "rf_model_best = RandomForestClassifier(n_estimators = 700, max_depth = 9, random_state=SEED)\n",
        "cv_scores_extended_red = cross_val_score(rf_model_best, data_red.values, y, \n",
        "                                     cv=cv, scoring=\"roc_auc\", n_jobs=-1)\n",
        "print(f\"ROC-AUC на кросс-валидации для новых трансформированных признаков с редукцией: {cv_scores_extended_red.mean()}\")"
      ],
      "metadata": {
        "colab": {
          "base_uri": "https://localhost:8080/"
        },
        "id": "ephBjBMb43-b",
        "outputId": "6bce60ce-b66d-4bfd-a59b-2ea5e93e780f"
      },
      "execution_count": null,
      "outputs": [
        {
          "output_type": "stream",
          "name": "stdout",
          "text": [
            "ROC-AUC на кросс-валидации для новых трансформированных признаков с редукцией: 0.8140521985610052\n",
            "CPU times: user 621 ms, sys: 82.8 ms, total: 703 ms\n",
            "Wall time: 1min 40s\n"
          ]
        }
      ]
    },
    {
      "cell_type": "markdown",
      "source": [
        "#### Теперь возьмем наши данные с 50 признаками и посмотрим, какой метод с ними справляется лучше всего. Две наилучших модели будем настраивать на наших данных - на редуцированных 50 и редуцированных 100"
      ],
      "metadata": {
        "id": "c4YL35EVITp3"
      }
    },
    {
      "cell_type": "code",
      "source": [
        "import xgboost\n",
        "import lightgbm\n",
        "from sklearn.tree import DecisionTreeClassifier\n",
        "from sklearn.neighbors import KNeighborsClassifier\n",
        "from sklearn.linear_model import LogisticRegression"
      ],
      "metadata": {
        "id": "75bdSUmsHWQy"
      },
      "execution_count": null,
      "outputs": []
    },
    {
      "cell_type": "code",
      "source": [
        "%%time\n",
        "data_red = data_trans[list(map(lambda x: feat_labels[x][0], indices[:50]))]\n",
        "rf_model = RandomForestClassifier(n_estimators = 300, \n",
        "                                  max_depth = 7, \n",
        "                                  random_state=SEED)\n",
        "cv_RF_red = cross_val_score(rf_model, data_red.values, y, \n",
        "                                     cv=cv, scoring=\"roc_auc\", n_jobs=-1)\n",
        "xgb = xgboost.XGBClassifier(random_state=SEED)\n",
        "cv_xgb_red = cross_val_score(xgb, data_red.values, y, \n",
        "                                     cv=cv, scoring=\"roc_auc\", n_jobs=-1)\n",
        "lgbm = lightgbm.LGBMClassifier(random_state=SEED)\n",
        "cv_lgbm_red = cross_val_score(lgbm, data_red.values, y, \n",
        "                                     cv=cv, scoring=\"roc_auc\", n_jobs=-1)\n",
        "dt = DecisionTreeClassifier(random_state=SEED, max_depth = 7)\n",
        "cv_dt_red = cross_val_score(dt, data_red.values, y, \n",
        "                                     cv=cv, scoring=\"roc_auc\", n_jobs=-1)\n",
        "lr = LogisticRegression(solver='liblinear', max_iter=10000)\n",
        "cv_lr_red = cross_val_score(lr, data_red.values, y, \n",
        "                                     cv=cv, scoring=\"roc_auc\", n_jobs=-1)\n",
        "knn = KNeighborsClassifier(n_neighbors=10, weights=\"distance\")\n",
        "cv_knn_red = cross_val_score(knn, data_red.values, y, \n",
        "                                     cv=cv, scoring=\"roc_auc\", n_jobs=-1)"
      ],
      "metadata": {
        "colab": {
          "base_uri": "https://localhost:8080/"
        },
        "id": "Gyd-Tcd3HWNU",
        "outputId": "589aa7e5-713d-4c49-c2e2-80439545e090"
      },
      "execution_count": null,
      "outputs": [
        {
          "output_type": "stream",
          "name": "stdout",
          "text": [
            "CPU times: user 988 ms, sys: 215 ms, total: 1.2 s\n",
            "Wall time: 2min 3s\n"
          ]
        }
      ]
    },
    {
      "cell_type": "code",
      "source": [
        "print(f\"ROC-AUC для RF: {cv_RF_red.mean()}\")\n",
        "print(f\"ROC-AUC для DT: {cv_dt_red.mean()}\")\n",
        "print(f\"ROC-AUC для xgb: {cv_xgb_red.mean()}\")\n",
        "print(f\"ROC-AUC для lgbm: {cv_lgbm_red.mean()}\")\n",
        "print(f\"ROC-AUC для LR: {cv_lr_red.mean()}\")\n",
        "print(f\"ROC-AUC для knn: {cv_knn_red.mean()}\")"
      ],
      "metadata": {
        "colab": {
          "base_uri": "https://localhost:8080/"
        },
        "id": "Bx8RCdbEHWUi",
        "outputId": "82fd4bd0-3bec-4923-9fc2-c8bd126f2dbf"
      },
      "execution_count": null,
      "outputs": [
        {
          "output_type": "stream",
          "name": "stdout",
          "text": [
            "ROC-AUC для RF: 0.8139845722446996\n",
            "ROC-AUC для DT: 0.7919810929810018\n",
            "ROC-AUC для xgb: 0.8139172307390131\n",
            "ROC-AUC для lgbm: 0.811091663681424\n",
            "ROC-AUC для LR: 0.807298254502079\n",
            "ROC-AUC для knn: 0.7551331249301304\n"
          ]
        }
      ]
    },
    {
      "cell_type": "markdown",
      "source": [
        "Теперь будем работать с RandomForest и XGBoost"
      ],
      "metadata": {
        "id": "uVB_kD8WN2Ky"
      }
    },
    {
      "cell_type": "code",
      "source": [
        "from sklearn.model_selection import GridSearchCV"
      ],
      "metadata": {
        "id": "6AiS3Y3QHWXr"
      },
      "execution_count": null,
      "outputs": []
    },
    {
      "cell_type": "code",
      "source": [
        "%%time\n",
        "rf_model = RandomForestClassifier(random_state=SEED)\n",
        "params = {'n_estimators': [500, 700], 'max_depth': range(9, 15)}\n",
        "cv_model = GridSearchCV(rf_model, params, n_jobs=-1, scoring=\"roc_auc\", cv=cv)\n",
        "cv_model.fit(data_red.values, y)\n",
        "cv_model.best_estimator_"
      ],
      "metadata": {
        "colab": {
          "base_uri": "https://localhost:8080/"
        },
        "id": "qTN-m0O3Z4iQ",
        "outputId": "db07eb03-0e7b-458d-82b2-effa0c7fcd5f"
      },
      "execution_count": null,
      "outputs": [
        {
          "output_type": "stream",
          "name": "stdout",
          "text": [
            "CPU times: user 1min 21s, sys: 1.54 s, total: 1min 22s\n",
            "Wall time: 35min 35s\n"
          ]
        }
      ]
    },
    {
      "cell_type": "code",
      "source": [
        "cv_model.best_score_, cv_model.best_estimator_"
      ],
      "metadata": {
        "colab": {
          "base_uri": "https://localhost:8080/"
        },
        "id": "acMGKry4Oyw7",
        "outputId": "b77af9c0-a73c-494a-a3b3-f0ac967342ee"
      },
      "execution_count": null,
      "outputs": [
        {
          "output_type": "execute_result",
          "data": {
            "text/plain": [
              "(0.8147670607810044,\n",
              " RandomForestClassifier(max_depth=10, n_estimators=700, random_state=10801))"
            ]
          },
          "metadata": {},
          "execution_count": 302
        }
      ]
    },
    {
      "cell_type": "code",
      "source": [
        "%%time\n",
        "xgb = xgboost.XGBClassifier(random_state=SEED)\n",
        "params = {'eta': [0.1, 0.2], 'max_depth': range(7, 13)}\n",
        "gs_xgb = GridSearchCV(xgb, params, n_jobs=-1, scoring=\"roc_auc\", cv=cv)\n",
        "gs_xgb.fit(data_red.values, y)\n",
        "gs_xgb.best_estimator_, gs_xgb.best_score_"
      ],
      "metadata": {
        "colab": {
          "base_uri": "https://localhost:8080/"
        },
        "id": "twfu9bJoZ4kz",
        "outputId": "64282013-396c-4649-cb61-fcb63f5aec1d"
      },
      "execution_count": null,
      "outputs": [
        {
          "output_type": "stream",
          "name": "stdout",
          "text": [
            "CPU times: user 22.9 s, sys: 736 ms, total: 23.6 s\n",
            "Wall time: 15min 21s\n"
          ]
        }
      ]
    },
    {
      "cell_type": "code",
      "source": [
        "gs_xgb.best_estimator_, gs_xgb.best_score_"
      ],
      "metadata": {
        "colab": {
          "base_uri": "https://localhost:8080/"
        },
        "id": "LWrKM3X1Oy0w",
        "outputId": "34770142-6666-4377-e970-c6c88b4a76ba"
      },
      "execution_count": null,
      "outputs": [
        {
          "output_type": "execute_result",
          "data": {
            "text/plain": [
              "(XGBClassifier(eta=0.1, max_depth=7, random_state=10801), 0.8095804127356196)"
            ]
          },
          "metadata": {},
          "execution_count": 304
        }
      ]
    },
    {
      "cell_type": "code",
      "source": [
        "xgb = xgboost.XGBClassifier(eta=0.1, random_state=SEED)\n",
        "cv_xgb_red = cross_val_score(xgb, data_trans.values, y, \n",
        "                                     cv=cv, scoring=\"roc_auc\", n_jobs=-1)\n",
        "print(cv_xgb_red.mean())"
      ],
      "metadata": {
        "colab": {
          "base_uri": "https://localhost:8080/"
        },
        "id": "rbVC_or0Oy4L",
        "outputId": "c96b9f3b-d210-4890-a257-7e78e1c465ef"
      },
      "execution_count": null,
      "outputs": [
        {
          "output_type": "stream",
          "name": "stdout",
          "text": [
            "0.8147041219075402\n"
          ]
        }
      ]
    },
    {
      "cell_type": "code",
      "source": [
        "# data_trans.to_csv(\"data_v4.csv\")"
      ],
      "metadata": {
        "id": "Z1niZ81LOy79"
      },
      "execution_count": null,
      "outputs": []
    },
    {
      "cell_type": "code",
      "source": [
        ""
      ],
      "metadata": {
        "id": "KvZs131FOzFu"
      },
      "execution_count": null,
      "outputs": []
    },
    {
      "cell_type": "code",
      "source": [
        ""
      ],
      "metadata": {
        "id": "4MfL03WgOzKQ"
      },
      "execution_count": null,
      "outputs": []
    },
    {
      "cell_type": "code",
      "source": [
        ""
      ],
      "metadata": {
        "id": "dGbyikbkOzO6"
      },
      "execution_count": null,
      "outputs": []
    },
    {
      "cell_type": "code",
      "source": [
        ""
      ],
      "metadata": {
        "id": "igh3vqx1OzTd"
      },
      "execution_count": null,
      "outputs": []
    }
  ]
}