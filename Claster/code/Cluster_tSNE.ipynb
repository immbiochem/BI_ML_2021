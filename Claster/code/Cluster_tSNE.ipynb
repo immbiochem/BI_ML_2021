{
 "cells": [
  {
   "cell_type": "code",
   "execution_count": null,
   "metadata": {},
   "outputs": [],
   "source": [
    "import warnings\n",
    "import pandas as pd\n",
    "import numpy as np\n",
    "import random\n",
    "import seaborn as sns\n",
    "import matplotlib.pyplot as plt\n",
    "\n",
    "from os.path import join\n",
    "from IPython import display\n",
    "from sklearn.datasets import load_digits\n",
    "from sklearn.datasets import make_blobs\n",
    "from sklearn.decomposition import PCA\n",
    "from sklearn.manifold import TSNE\n",
    "from sklearn.metrics import silhouette_score # и другие метрики\n",
    "from sklearn.cluster import KMeans # а также другие алгоритмы"
   ]
  },
  {
   "cell_type": "code",
   "execution_count": null,
   "metadata": {},
   "outputs": [],
   "source": [
    "DATA_PATH = \"data\"\n",
    "plt.rcParams[\"figure.figsize\"] = 12, 9\n",
    "sns.set_style(\"whitegrid\")\n",
    "warnings.filterwarnings(\"ignore\")\n",
    "\n",
    "SEED = 111\n",
    "random.seed(SEED)\n",
    "np.random.seed(SEED)"
   ]
  },
  {
   "cell_type": "markdown",
   "metadata": {},
   "source": [
    "### Задание 1. Реализация Kmeans\n",
    "\n",
    "5 баллов"
   ]
  },
  {
   "cell_type": "markdown",
   "metadata": {},
   "source": [
    "В данном задании вам предстоит дописать код класса `MyKMeans`. Мы на простом примере увидим, как подбираются центры кластеров и научимся их визуализировать."
   ]
  },
  {
   "cell_type": "markdown",
   "metadata": {},
   "source": [
    "Сгенерируем простой набор данных, 400 объектов и 2 признака (чтобы все быстро работало и можно было легко нарисовать):"
   ]
  },
  {
   "cell_type": "code",
   "execution_count": null,
   "metadata": {},
   "outputs": [],
   "source": [
    "X, true_labels = make_blobs(400, 2, centers=[[0, 0], [-4, 0], [3.5, 3.5], [3.5, -2.0]])"
   ]
  },
  {
   "cell_type": "markdown",
   "metadata": {},
   "source": [
    "Напишем функцию `visualize_clusters`, которая по данным и меткам кластеров будет рисовать их и разукрашивать:"
   ]
  },
  {
   "cell_type": "code",
   "execution_count": null,
   "metadata": {},
   "outputs": [],
   "source": [
    "def visualize_clusters(X, labels):\n",
    "    \"\"\"\n",
    "    Функция для визуализации кластеров\n",
    "        :param X: таблица объекты х признаки\n",
    "        :param labels: np.array[n_samples] - номера кластеров\n",
    "    \"\"\"\n",
    "    \n",
    "    unique_labels = np.sort(np.unique(labels))\n",
    "    sns.scatterplot(X[:, 0], X[:, 1], hue=labels, \n",
    "                    palette=\"colorblind\", legend=False,\n",
    "                    hue_order=unique_labels)\n",
    "    plt.xlabel(\"$X_1$\", fontsize=18)\n",
    "    plt.ylabel(\"$X_2$\", fontsize=18)\n",
    "    \n",
    "    for label in labels:\n",
    "        center = X[(labels == label)].mean(axis=0)\n",
    "        plt.scatter(center[0], center[1], s=80, c=\"#201F12\", marker=(5, 2))"
   ]
  },
  {
   "cell_type": "code",
   "execution_count": null,
   "metadata": {},
   "outputs": [],
   "source": [
    "visualize_clusters(X, true_labels)"
   ]
  },
  {
   "cell_type": "markdown",
   "metadata": {},
   "source": [
    "Напишем свой класс `MyKMeans`, который будет реализовывать алгоритм кластеризации K-средних. Напомним сам алгоритм:\n",
    "\n",
    "1. Выбераем число кластеров (K)\n",
    "2. Случайно инициализируем K точек (или выбираем из данных), это будут начальные центры наших кластеров\n",
    "3. Далее для каждого объекта считаем расстояние до всех кластеров и присваиваем ему метку ближайщего\n",
    "4. Далее для каждого кластера считаем \"центр масс\" (среднее значение для каждого признака по всем объектам кластера)\n",
    "5. Этот \"центр масс\" становится новым центром кластера\n",
    "6. Повторяем п.3, 4, 5 заданное число итераций или до сходимости\n",
    "\n",
    "Во время предсказания алгоритм просто находит ближайщий центроид (центр кластера) для тестового объекта и возвращает его номер."
   ]
  },
  {
   "cell_type": "markdown",
   "metadata": {},
   "source": [
    "Реализуйте методы:\n",
    "* `_calculate_distance(X, centroid)` - вычисляет Евклидово расстояние от всех объектов в `Х` до заданного центра кластера (`centroid`)\n",
    "* `predict(X)` - для каждого элемента из `X` возвращает номер кластера, к которому относится данный элемент"
   ]
  },
  {
   "cell_type": "code",
   "execution_count": null,
   "metadata": {},
   "outputs": [],
   "source": [
    "class MyKMeans:\n",
    "    def __init__(self, n_clusters, init=\"random\", max_iter=300, visualize=False):\n",
    "        \"\"\"\n",
    "        Конструктор класса MyKMeans\n",
    "            :param n_clusters: число кластеров\n",
    "            :param init: способ инициализации центров кластеров\n",
    "                'random' - генерирует координаты случайно из нормального распределения\n",
    "                'sample' - выбирает центроиды случайно из объектов выборки\n",
    "            :param max_iter: заданное число итераций \n",
    "                (мы не будем реализовывать другой критерий остановки)\n",
    "            :param visualize: рисовать ли кластеры и их центроиды в процессе работы\n",
    "                код будет работать сильно дольше, но красиво...\n",
    "        \"\"\"\n",
    "        \n",
    "        assert init in [\"random\", \"sample\"], f\"Неизвестный метод инициализации {init}\"\n",
    "        self.n_clusters = n_clusters\n",
    "        self.init = init\n",
    "        self.max_iter = max_iter\n",
    "        self.centroids = None\n",
    "        self.visualize = visualize\n",
    "       \n",
    "    \n",
    "    def fit(self, X):\n",
    "        \"\"\"\n",
    "        Подбирает оптимальные центры кластеров\n",
    "            :param X: наши данные (n_samples, n_features)\n",
    "        :return self: все как в sklearn\n",
    "        \"\"\"\n",
    "        \n",
    "        n_samples, n_features = X.shape\n",
    "        \n",
    "        # Инициализация центров кластеров\n",
    "        if self.init == \"random\":\n",
    "            centroids = np.random.randn(self.n_clusters, n_features)\n",
    "        elif self.init == \"sample\":\n",
    "            centroids_idx = np.random.choice(np.arange(n_samples), \n",
    "                                             size=self.n_clusters, \n",
    "                                             replace=False)\n",
    "            centroids = X[centroids_idx]\n",
    "        \n",
    "        # Итеративно двигаем центры\n",
    "        for _ in range(self.max_iter):\n",
    "            # Посчитаем расстояния для всех объектов до каждого центроида\n",
    "            dists = []\n",
    "            for centroid in centroids:\n",
    "                dists.append(self._calculate_distance(X, centroid))\n",
    "            dists = np.concatenate(dists, axis=1)\n",
    "            # Для каждого объекта найдем, к какому центроиду он ближе\n",
    "            cluster_labels = np.argmin(dists, axis=1)\n",
    "            \n",
    "            # Пересчитаем центр масс для каждого кластера\n",
    "            centroids = []\n",
    "            for label in np.sort(np.unique(cluster_labels)):\n",
    "                center = X[(cluster_labels == label)].mean(axis=0)\n",
    "                centroids.append(center)\n",
    "            \n",
    "            # Отрисуем точки, покрасим по меткам кластера, а также изобразим центроиды\n",
    "            if self.visualize:\n",
    "                visualize_clusters(X, cluster_labels)\n",
    "                display.clear_output(wait=True)\n",
    "                display.display(plt.gcf())\n",
    "                plt.close()\n",
    "                \n",
    "        self.centroids = np.array(centroids)\n",
    "        \n",
    "        return self\n",
    "    \n",
    "    \n",
    "    def predict(self, X):\n",
    "        \"\"\"\n",
    "        Для каждого X возвращает номер кластера, к которому он относится\n",
    "            :param X: наши данные (n_samples, n_features)\n",
    "        :return cluster_labels: метки кластеров\n",
    "        \"\"\"\n",
    "        \n",
    "        \"\"\"\n",
    "        YOUR CODE IS HERE\n",
    "        \"\"\"\n",
    "        cluster_labels = None\n",
    "            \n",
    "        return cluster_labels\n",
    "        \n",
    "        \n",
    "    def _calculate_distance(self, X, centroid):\n",
    "        \"\"\"\n",
    "        Вычисляет Евклидово расстояние от всех объектов в Х до заданного центра кластера (centroid)\n",
    "            :param X: наши данные (n_samples, n_features)\n",
    "            :param centroid: координаты центра кластера\n",
    "        :return dist: расстояния от всех X до центра кластера\n",
    "        \"\"\"\n",
    "        \n",
    "        \"\"\"\n",
    "        YOUR CODE IS HERE\n",
    "        \"\"\"\n",
    "        dist = None\n",
    "        \n",
    "        return dist\n",
    "    \n",
    "    \n",
    "    def __repr__(self):\n",
    "        return f\"Привет, я твой KMeans (/¯◡ ‿ ◡)/¯☆*\""
   ]
  },
  {
   "cell_type": "markdown",
   "metadata": {},
   "source": [
    "Обучите `MyKMeans` на наших игручешных данных, добейтесь сходимости. Не забудьте поставить `visualize=True`, чтобы посмотреть на красивые картинки. Также попробуйте различные способы инициализации центроидов и скажите, какой лучше подошел в этой ситуации."
   ]
  },
  {
   "cell_type": "code",
   "execution_count": null,
   "metadata": {},
   "outputs": [],
   "source": []
  },
  {
   "cell_type": "markdown",
   "metadata": {},
   "source": [
    "### Задание 2. Подбираем лучшую иерархическую кластеризацию\n",
    "\n",
    "5 баллов"
   ]
  },
  {
   "cell_type": "markdown",
   "metadata": {},
   "source": [
    "На лекции были рассмотрены различные расстояния, которые могут служить метриками различия между объектами. Также мы разобрали несколько алгоритмов кластеризации, в том числе и иерархическую. Часто может быть непонятно, какой алгоритм и какую метрику расстояния нужно взять. Давайте упростим себе жизнь и напишем функцию `algorithm_selection`, которая будет на основании переданных ей:\n",
    "\n",
    "* метрик расстояния (можно брать все, что было на лекциях, минимум 4)\n",
    "* параметра `linkage` ('average', 'single', 'complete')\n",
    "* и метрик качества кластеризации ('Homogeneity', 'Completeness', 'V-measure', 'Silhouette')\n",
    "\n",
    "будет выводить итоговую таблицу, в которую войдут столбцы:\n",
    "* distance (метрика расстояния)\n",
    "* linkage (алгоритм иерархической кластеризации)\n",
    "* homogenity\n",
    "* completeness\n",
    "* v_measure\n",
    "* silhouette\n",
    "\n",
    "В результате по этой таблице, нужно сделать вывод о том, какой алгоритм кластеризации и с какими гиперпараметрами лучше всего сработал."
   ]
  },
  {
   "cell_type": "markdown",
   "metadata": {},
   "source": [
    "Загрузим наши данные:"
   ]
  },
  {
   "cell_type": "code",
   "execution_count": null,
   "metadata": {},
   "outputs": [],
   "source": [
    "data = load_digits()\n",
    "X, y = data.data, data.target"
   ]
  },
  {
   "cell_type": "code",
   "execution_count": null,
   "metadata": {},
   "outputs": [],
   "source": [
    "plt.imshow(X[0].reshape(8, 8).astype(int), cmap=\"gray\")\n",
    "plt.axis(\"off\");"
   ]
  },
  {
   "cell_type": "markdown",
   "metadata": {},
   "source": [
    "Работать будем с изображениями рукописных цифр. Тут все похоже на данные для 1 домашнего задания, каждая картинка представлена вектором из 64 элементов (числа от 0 до 255). Чтобы ее нарисовать мы должны сделать `reshape` в картинку 8 на 8 пикселей. Вам нужно будет выбрать наилучший способ кластеризации при помощи функции `algorithm_selection`, которую вы реализуете. Для некоторых метрик кластеризации требуются метки **классов** объектов (они хранятся в переменной `y`). Укажите для каждого алгоритма число кластеров равное количеству классов в `y`."
   ]
  },
  {
   "cell_type": "markdown",
   "metadata": {},
   "source": [
    "##### YOUR TURN TO CODE"
   ]
  },
  {
   "cell_type": "code",
   "execution_count": null,
   "metadata": {},
   "outputs": [],
   "source": [
    "def algorithm_selection(X, distances, algorithms, metrics):\n",
    "    \"\"\"\n",
    "    Для заданных алгоримов кластеризации и гиперпараметров \n",
    "    считает различные метрики кластеризации\n",
    "        :param X: наши данные (n_samples, n_features)\n",
    "        :param distances: список возможных метрик расстояния\n",
    "        :param algorithm: параметр linkage ('average', 'single', 'complete')\n",
    "        :param metrics: список возможных метрик качества кластеризации\n",
    "    :return compare_dataframe: таблица с метриками кластеризации\n",
    "    \"\"\"\n",
    "\n",
    "    \"\"\"\n",
    "    YOUR CODE IS HERE\n",
    "    \"\"\"\n",
    "    compare_dataframe = None\n",
    "    \n",
    "    return compare_dataframe"
   ]
  },
  {
   "cell_type": "code",
   "execution_count": null,
   "metadata": {},
   "outputs": [],
   "source": []
  },
  {
   "cell_type": "markdown",
   "metadata": {},
   "source": [
    "### Задание 3. Аннотация клеточных типов\n",
    "\n",
    "суммарно 10 баллов"
   ]
  },
  {
   "cell_type": "markdown",
   "metadata": {},
   "source": [
    "В этом задании вам предстоит применять полученные знания о кластеризации для аннотации данных, полученных при помощи проточной цитометрии. Каждая строка в данных это одна клетка, столбцы **FSC-A**, **SSC-A** косвенным образом свидетельствуют о размере клеток, остальные показывают интенсивность флуоресценции различных поверхностных маркеров. Ваша задача определить для каждой клетки, к какому типу она относится."
   ]
  },
  {
   "cell_type": "markdown",
   "metadata": {},
   "source": [
    "#### 3.1. EDA\n",
    "\n",
    "1.5 балла\n",
    "\n",
    "Проведите EDA:\n",
    "\n",
    "1. Посмотрите на данные (можно попробовать метод `describe`)\n",
    "2. Сколько у нас клеток / признаков\n",
    "3. Постройте распределения каждого признака (есть ли очевинные выбросы?)"
   ]
  },
  {
   "cell_type": "code",
   "execution_count": null,
   "metadata": {},
   "outputs": [],
   "source": [
    "fc_data = pd.read_csv(join(DATA_PATH, \"flow_c_data.csv\"), index_col=0)"
   ]
  },
  {
   "cell_type": "markdown",
   "metadata": {},
   "source": [
    "##### YOUR TURN TO CODE:"
   ]
  },
  {
   "cell_type": "code",
   "execution_count": null,
   "metadata": {},
   "outputs": [],
   "source": []
  },
  {
   "cell_type": "markdown",
   "metadata": {},
   "source": [
    "#### 3.2. Кластеризация\n",
    "\n",
    "4.5 балла"
   ]
  },
  {
   "cell_type": "markdown",
   "metadata": {},
   "source": [
    "При ручной аннотации клеточных типов обычно поступают следующим образом:\n",
    "\n",
    "1. При помощи методов понижения размерности рисуют наши наблюдения, чтобы примерно оценить число клеточных типов\n",
    "2. Проводят кластеризацию наблюдений (для некоторых методов нужно заранее задать число кластеров, поэтому нам как раз помогает п.1)\n",
    "3. Далее мы считаем, что клетки, которые алгоритм отнес к одному кластеру являются одним клеточным типом (если кластеров больше, чем типов клеток, то возможно, что 2 разных кластера являются одним типом)\n",
    "4. После чего по интенсивности экспрессии поверхностных маркеров мы присваиваем кластеру клеточный тип"
   ]
  },
  {
   "cell_type": "markdown",
   "metadata": {},
   "source": [
    "Давайте для начала напишем удобную функцию для визуализации наших многомерных данных в пространстве размерностью 2, делать мы это будем при помощи алгоритма t-SNE."
   ]
  },
  {
   "cell_type": "markdown",
   "metadata": {},
   "source": [
    "Поиграться с красивой визуализацией можно [тут](https://distill.pub/2016/misread-tsne/)."
   ]
  },
  {
   "cell_type": "code",
   "execution_count": null,
   "metadata": {},
   "outputs": [],
   "source": [
    "def plot_tsne(data, n_iter=1000, \n",
    "              perplexity=40, color=None):\n",
    "    \"\"\"\n",
    "    Функция для отрисовки результатов работы t-SNE\n",
    "        :param data: таблица объекты х признаки\n",
    "        :param n_iter: число итераций градиентного спуска,\n",
    "            может быть полезно увеличить, чтобы получить результаты получше\n",
    "        :param perplexity: \n",
    "        :param color: np.array[n_samples] с переменной,\n",
    "            которой мы хотим покрасить наши наблюдения\n",
    "        :return tsne_emb: np.array[n_samples, 2] - результаты работы t-SNE\n",
    "    \"\"\"\n",
    "    \n",
    "    # Сначала сделаем PCA, так как это хорошее начальное приближение для t-SNE\n",
    "    # позволит алгоритму быстрее сойтись\n",
    "    pca = PCA().fit(data)\n",
    "    pca_embedding = pca.transform(data)\n",
    "    \n",
    "    # Запустим t-SNE, он выдаст нам для каждого объекта по 2 числа, \n",
    "    # которые мы сможем нарисовать\n",
    "    tnse = TSNE(n_components=2, init=pca_embedding[:, :2], n_jobs=-1,\n",
    "                n_iter=n_iter, perplexity=perplexity)\n",
    "    tsne_embedding = tnse.fit_transform(pca_embedding)\n",
    "    \n",
    "    sns.scatterplot(x=tsne_embedding[:, 0],\n",
    "                    y=tsne_embedding[:, 1],\n",
    "                    hue=color, palette=\"colorblind\")\n",
    "    plt.xlabel(\"$TSNE_1$\", fontsize=18)\n",
    "    plt.ylabel(\"$TSNE_2$\", fontsize=18)\n",
    "    \n",
    "    # Вернем также результаты t-SNE, так как, если потом захотим перестроить картинку,\n",
    "    # в таком случае нам не придется ждать заново, просто нарисуем новую с готовыми данными\n",
    "    \n",
    "    return tsne_embedding"
   ]
  },
  {
   "cell_type": "code",
   "execution_count": null,
   "metadata": {},
   "outputs": [],
   "source": [
    "tsne_res = plot_tsne(fc_data)"
   ]
  },
  {
   "cell_type": "markdown",
   "metadata": {},
   "source": [
    "Кластеризуйте ваши данные:\n",
    "\n",
    "1. Попробуйте методы кластеризации из тех, что мы прошли\n",
    "2. Выберите лучший на основании метрики `silhouette_score` (попробуйте также подобрать гиперпараметры)\n",
    "3. Присвойте каждому наблюдению метку класса и нарисуйте график t-SNE, покрасив точки метками кластера"
   ]
  },
  {
   "cell_type": "code",
   "execution_count": null,
   "metadata": {},
   "outputs": [],
   "source": []
  },
  {
   "cell_type": "markdown",
   "metadata": {},
   "source": [
    "Удалось ли вам получить ситуацию, где отдельные группы точек покрашены в один цвет?"
   ]
  },
  {
   "cell_type": "code",
   "execution_count": null,
   "metadata": {},
   "outputs": [],
   "source": []
  },
  {
   "cell_type": "markdown",
   "metadata": {},
   "source": [
    "#### 3.3. Аннотация клеточных типов\n",
    "\n",
    "4 балла"
   ]
  },
  {
   "cell_type": "markdown",
   "metadata": {},
   "source": [
    "Теперь когда мы подобрали хороший алгоритм кластеризации, можно аннотировать наши клетки. Для этого мы нарисуем t-SNE и покрасим точки в зависимости от интенсивности экспрессии поверхностных маркеров. В датасете присутствуют следующие типы клеток:\n",
    "\n",
    "* B_cells\n",
    "* T_cells\n",
    "* Monocytes\n",
    "* Other cells\n",
    "\n",
    "Вам нужно будет выяснить, какие клетки экспрессируют определенные маркеры и присвоить каждому кластеру один из типов клеток."
   ]
  },
  {
   "cell_type": "markdown",
   "metadata": {},
   "source": [
    "Для начала нарисуем все это безобразие:"
   ]
  },
  {
   "cell_type": "code",
   "execution_count": null,
   "metadata": {},
   "outputs": [],
   "source": [
    "# Результаты t-SNE уже есть в переменной tsne_res\n",
    "fig, axes = plt.subplots(3, 3, figsize=(20, 20))\n",
    "for col, ax in zip(fc_data.columns, axes.ravel()):\n",
    "    scatter = ax.scatter(tsne_res[:, 0], tsne_res[:, 1], \n",
    "                         c=fc_data[col], cmap=\"YlOrBr\")\n",
    "    fig.colorbar(scatter, ax=ax)\n",
    "    ax.set_title(col)\n",
    "    ax.grid(False)\n",
    "    ax.axis(\"off\")"
   ]
  },
  {
   "cell_type": "markdown",
   "metadata": {},
   "source": [
    "Дальше дело за вами, нужно определить клеточный тип для каждого кластера и записать их как значения в словаре:"
   ]
  },
  {
   "cell_type": "code",
   "execution_count": null,
   "metadata": {},
   "outputs": [],
   "source": [
    "cell_type_cluster_map = {0: \"YOUR SOLUTION\", \n",
    "                         1: \"YOUR SOLUTION\", \n",
    "                         2: \"YOUR SOLUTION\", \n",
    "                         3: \"YOUR SOLUTION\"}"
   ]
  },
  {
   "cell_type": "code",
   "execution_count": null,
   "metadata": {},
   "outputs": [],
   "source": [
    "labeled_fc_data = fc_data.assign(Population=clust.labels_)\n",
    "labeled_fc_data[\"Population\"] = labeled_fc_data[\"Population\"].map(cell_type_cluster_map)"
   ]
  },
  {
   "cell_type": "markdown",
   "metadata": {},
   "source": [
    "Посчитайте, как распределены типы клеток:"
   ]
  },
  {
   "cell_type": "code",
   "execution_count": null,
   "metadata": {},
   "outputs": [],
   "source": []
  },
  {
   "cell_type": "markdown",
   "metadata": {},
   "source": [
    "Сохраните ваши результаты в csv файл, мы сравним их с правильными ответами по метрике `f1_score(average=\"macro\")`, которая хорошо подходит, даже если классы не сбалансированы."
   ]
  },
  {
   "cell_type": "code",
   "execution_count": null,
   "metadata": {},
   "outputs": [],
   "source": []
  },
  {
   "cell_type": "markdown",
   "metadata": {},
   "source": [
    "#### 3.4. Атоматическая аннотация\n",
    "\n",
    "**дополнительные** 5 баллов"
   ]
  },
  {
   "cell_type": "markdown",
   "metadata": {},
   "source": [
    "Это задание является дополнительным. Вам нужно построить классификатор клеточных типов на основе размеченных вами данных. Пока что мы прошли не так много разных классификаторов, но уже есть из чего выбирать.\n",
    "\n",
    "Оцените качество полученной модели при помощи `f1_score(average=\"macro\")`. Попробуйте его улучшить, каким-то образом поработав с дисбалансом классов ([помощь](https://elitedatascience.com/imbalanced-classes))."
   ]
  },
  {
   "cell_type": "code",
   "execution_count": null,
   "metadata": {},
   "outputs": [],
   "source": []
  },
  {
   "cell_type": "markdown",
   "metadata": {},
   "source": [
    "### Задание 4. Любимое место\n",
    "\n",
    "дополнительно 0.5 балла\n",
    "\n",
    "Расскажите о вашем любимом месте, куда бы вы хотели съездить этой весной, если вы уже там бывали, то прикрепите фотографию)"
   ]
  },
  {
   "cell_type": "code",
   "execution_count": null,
   "metadata": {},
   "outputs": [],
   "source": []
  },
  {
   "cell_type": "markdown",
   "metadata": {},
   "source": [
    "### Therapy time\n",
    "\n",
    "Напишите здесь ваши впечатления о задании: было ли интересно, было ли слишком легко или наоборот сложно и тд. Также сюда можно написать свои идеи по улучшению заданий, а также предложить данные, на основе которых вы бы хотели построить следующие дз.\n",
    "\n",
    "**Ваши мысли:**"
   ]
  },
  {
   "cell_type": "code",
   "execution_count": null,
   "metadata": {},
   "outputs": [],
   "source": []
  }
 ],
 "metadata": {
  "kernelspec": {
   "display_name": "Python 3",
   "language": "python",
   "name": "python3"
  },
  "language_info": {
   "codemirror_mode": {
    "name": "ipython",
    "version": 3
   },
   "file_extension": ".py",
   "mimetype": "text/x-python",
   "name": "python",
   "nbconvert_exporter": "python",
   "pygments_lexer": "ipython3",
   "version": "3.8.5"
  }
 },
 "nbformat": 4,
 "nbformat_minor": 5
}
